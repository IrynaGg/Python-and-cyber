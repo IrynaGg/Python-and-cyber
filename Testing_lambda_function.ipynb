{
  "nbformat": 4,
  "nbformat_minor": 0,
  "metadata": {
    "colab": {
      "provenance": [],
      "include_colab_link": true
    },
    "kernelspec": {
      "name": "python3",
      "display_name": "Python 3"
    },
    "language_info": {
      "name": "python"
    }
  },
  "cells": [
    {
      "cell_type": "markdown",
      "metadata": {
        "id": "view-in-github",
        "colab_type": "text"
      },
      "source": [
        "<a href=\"https://colab.research.google.com/github/IrynaGg/Python-and-cyber/blob/main/Testing_lambda_function.ipynb\" target=\"_parent\"><img src=\"https://colab.research.google.com/assets/colab-badge.svg\" alt=\"Open In Colab\"/></a>"
      ]
    },
    {
      "cell_type": "markdown",
      "source": [
        "Testing the lambda function code locally as a part of the PythonProject\n",
        "\n",
        "# Connecting to AWS Simple Storage System (S3)\n",
        "---\n",
        "To connect to, read files from and write files to S3 you will need the following:\n",
        "\n",
        "\n",
        "\n",
        "*   Get an access key (which you should keep hidden)  \n",
        "*   install the python library `boto3`   \n",
        "*   write a function get an S3 connection\n",
        "*   read or write a file as you need to\n",
        "\n"
      ],
      "metadata": {
        "id": "OLyJadlYUQ30"
      }
    },
    {
      "cell_type": "markdown",
      "source": [
        "### Use this code cell to install boto3 for use in this worksheet\n",
        "---\n",
        "Use this code to do this:\n",
        "`!pip install boto3`\n",
        "\n",
        "***Note 1***:  you will need to do this each time you come back to the worksheet.  If someone else copies your worksheet, they will need to install it.\n",
        "\n",
        "***Note 2***: once you have installed it in a session, you won't need to install it again, so put the code in a cell that you only run once."
      ],
      "metadata": {
        "id": "Msbx3QBoWEF8"
      }
    },
    {
      "cell_type": "code",
      "source": [
        "!pip install boto3"
      ],
      "metadata": {
        "id": "jHUliNAyWlej",
        "outputId": "17c971ea-f4f8-4a96-ade3-fbbe25ed2657",
        "colab": {
          "base_uri": "https://localhost:8080/"
        }
      },
      "execution_count": 1,
      "outputs": [
        {
          "output_type": "stream",
          "name": "stdout",
          "text": [
            "Collecting boto3\n",
            "  Downloading boto3-1.34.59-py3-none-any.whl (139 kB)\n",
            "\u001b[2K     \u001b[90m━━━━━━━━━━━━━━━━━━━━━━━━━━━━━━━━━━━━━━━━\u001b[0m \u001b[32m139.3/139.3 kB\u001b[0m \u001b[31m3.5 MB/s\u001b[0m eta \u001b[36m0:00:00\u001b[0m\n",
            "\u001b[?25hCollecting botocore<1.35.0,>=1.34.59 (from boto3)\n",
            "  Downloading botocore-1.34.59-py3-none-any.whl (12.0 MB)\n",
            "\u001b[2K     \u001b[90m━━━━━━━━━━━━━━━━━━━━━━━━━━━━━━━━━━━━━━━━\u001b[0m \u001b[32m12.0/12.0 MB\u001b[0m \u001b[31m31.7 MB/s\u001b[0m eta \u001b[36m0:00:00\u001b[0m\n",
            "\u001b[?25hCollecting jmespath<2.0.0,>=0.7.1 (from boto3)\n",
            "  Downloading jmespath-1.0.1-py3-none-any.whl (20 kB)\n",
            "Collecting s3transfer<0.11.0,>=0.10.0 (from boto3)\n",
            "  Downloading s3transfer-0.10.0-py3-none-any.whl (82 kB)\n",
            "\u001b[2K     \u001b[90m━━━━━━━━━━━━━━━━━━━━━━━━━━━━━━━━━━━━━━━━\u001b[0m \u001b[32m82.1/82.1 kB\u001b[0m \u001b[31m8.7 MB/s\u001b[0m eta \u001b[36m0:00:00\u001b[0m\n",
            "\u001b[?25hRequirement already satisfied: python-dateutil<3.0.0,>=2.1 in /usr/local/lib/python3.10/dist-packages (from botocore<1.35.0,>=1.34.59->boto3) (2.8.2)\n",
            "Requirement already satisfied: urllib3<2.1,>=1.25.4 in /usr/local/lib/python3.10/dist-packages (from botocore<1.35.0,>=1.34.59->boto3) (2.0.7)\n",
            "Requirement already satisfied: six>=1.5 in /usr/local/lib/python3.10/dist-packages (from python-dateutil<3.0.0,>=2.1->botocore<1.35.0,>=1.34.59->boto3) (1.16.0)\n",
            "Installing collected packages: jmespath, botocore, s3transfer, boto3\n",
            "Successfully installed boto3-1.34.59 botocore-1.34.59 jmespath-1.0.1 s3transfer-0.10.0\n"
          ]
        }
      ]
    },
    {
      "cell_type": "code",
      "source": [
        "!pip install botocore"
      ],
      "metadata": {
        "colab": {
          "base_uri": "https://localhost:8080/"
        },
        "id": "vvR7XA_m6sCg",
        "outputId": "5dd80b51-5d69-42cd-edd8-fd5cadf4b6a0"
      },
      "execution_count": 9,
      "outputs": [
        {
          "output_type": "stream",
          "name": "stdout",
          "text": [
            "Requirement already satisfied: botocore in /usr/local/lib/python3.10/dist-packages (1.34.59)\n",
            "Requirement already satisfied: jmespath<2.0.0,>=0.7.1 in /usr/local/lib/python3.10/dist-packages (from botocore) (1.0.1)\n",
            "Requirement already satisfied: python-dateutil<3.0.0,>=2.1 in /usr/local/lib/python3.10/dist-packages (from botocore) (2.8.2)\n",
            "Requirement already satisfied: urllib3<2.1,>=1.25.4 in /usr/local/lib/python3.10/dist-packages (from botocore) (2.0.7)\n",
            "Requirement already satisfied: six>=1.5 in /usr/local/lib/python3.10/dist-packages (from python-dateutil<3.0.0,>=2.1->botocore) (1.16.0)\n"
          ]
        }
      ]
    },
    {
      "cell_type": "markdown",
      "source": [
        "### Save your access key, and secret key in an environment variable\n",
        "---\n",
        "\n",
        "During testing you will save the keys in environment variables here.  When you create a function in lambda you will use the environment variables there.\n",
        "\n",
        "1.  In the AWS console - go to the IAM service.  Follow instructions here to create your access keys: https://docs.google.com/document/d/1_FhKLVLSaBdck1e-Pm4mlUQkIj9BGwPfuquMPHpXdls/edit?usp=sharing   \n",
        "2.  Once you have downloaded the keys in a CSV so that you have a permanent record to copy and paste from (kept on your own device, or in your own cloud storage if you can't store on the device), you will be able to use them to connect to S3.\n",
        "\n",
        "3.  Create a bucket (a folder) to store your files.  Follow the instructions here: https://docs.aws.amazon.com/AmazonS3/latest/userguide/creating-bucket.html  (there is quite a bit of information about changing setting, leave everything as the default for this exercise)  \n",
        "\n",
        "3.  Use the code cell below to allow you to input the public key (AWS_ACCESS_KEY), the private key (AWS_SECRET_ACCESS_KEY), and the bucket name,  and save all three in environment variables only available in this worksheet while you are using it.\n",
        "\n",
        "***Note 2***:  you will need to do this each time you come back to the worksheet.  If someone else copies your worksheet, they should not be able to upload to your S3 as they won't know the keys and they won't know the bucket URL (as you will also save that in an environment variable)"
      ],
      "metadata": {
        "id": "EZhg5WXdW8na"
      }
    },
    {
      "cell_type": "code",
      "execution_count": 2,
      "metadata": {
        "id": "0V-74wDUUCiC"
      },
      "outputs": [],
      "source": [
        "import os\n",
        "from IPython.display import clear_output\n",
        "\n",
        "def set_environment_variable_values():\n",
        "  ACCESS_KEY = input(\"Please enter the AWS access key: \")\n",
        "  SECRET_ACCESS_KEY = input(\"Please enter the AWS secret access key: \")\n",
        "  BUCKET_NAME = input(\"Please enter the name of the bucket in S3: \")\n",
        "  os.environ['ACCESS_KEY'] = ACCESS_KEY\n",
        "  os.environ['SECRET_ACCESS_KEY'] = SECRET_ACCESS_KEY\n",
        "  os.environ['BUCKET_NAME'] = BUCKET_NAME\n",
        "  clear_output()\n",
        "  return None\n",
        "\n",
        "set_environment_variable_values()\n"
      ]
    },
    {
      "cell_type": "markdown",
      "source": [
        "### You can use the cell below to check that your environment variables have been saved, but clear the output before you upload this to github\n",
        "---\n"
      ],
      "metadata": {
        "id": "lbncziG5szFD"
      }
    },
    {
      "cell_type": "code",
      "source": [
        "print(os.environ.get('ACCESS_KEY'), os.environ.get('SECRET_ACCESS_KEY'), os.environ.get('BUCKET_NAME'))"
      ],
      "metadata": {
        "id": "BzANqlxyTNhK"
      },
      "execution_count": null,
      "outputs": []
    },
    {
      "cell_type": "markdown",
      "source": [
        "### Create a connection to the S3 bucket\n",
        "---\n",
        "\n",
        "In order to work with files in the bucket you will need a 'client'.  This will be the worker that will do the fetching and storing.  The code below will set up this client and the output will show that a client has been created."
      ],
      "metadata": {
        "id": "EyLPbMMlTe63"
      }
    },
    {
      "cell_type": "code",
      "source": [
        "import boto3\n",
        "\n",
        "def get_S3_client():\n",
        "\tresource = boto3.client(\n",
        "     \"s3\",\n",
        "\t\taws_access_key_id = os.environ.get('ACCESS_KEY'),\n",
        "\t\taws_secret_access_key = os.environ.get('SECRET_ACCESS_KEY')\n",
        "\t)\n",
        "\treturn resource\n",
        "\n",
        "s3_client = get_S3_client()\n",
        "print(s3_client)"
      ],
      "metadata": {
        "colab": {
          "base_uri": "https://localhost:8080/"
        },
        "id": "xm0Hz9JEUwxE",
        "outputId": "0ba330fb-3b8e-4db7-eb10-1702ec00f65c"
      },
      "execution_count": 3,
      "outputs": [
        {
          "output_type": "stream",
          "name": "stdout",
          "text": [
            "<botocore.client.S3 object at 0x7ad1f4993b80>\n"
          ]
        }
      ]
    },
    {
      "cell_type": "markdown",
      "source": [
        "### Opening a file from S3\n",
        "---\n",
        "\n",
        "You can upload this file to your bucket, through the AWS console.  \n",
        "\n",
        "*  Download the file (population.csv) from here:  https://drive.google.com/file/d/1Mj2f56YrgWL6eYUF9zOf0Pph8NhJAIe0/view?usp=sharing\n",
        "\n",
        "*  Open the AWS dashboard and select S3 as the service.  \n",
        "\n",
        "*  Find your bucket and click on its link to open it.  \n",
        "\n",
        "*  Click on **upload**, select the file and upload\n",
        "\n",
        "Now that the file is in the bucket, use the code below to open it."
      ],
      "metadata": {
        "id": "qfwQ9T_ZV4oa"
      }
    },
    {
      "cell_type": "code",
      "source": [
        "import pandas as pd\n",
        "import io\n",
        "\n",
        "import os\n",
        "import boto3\n",
        "import json\n",
        "import csv\n",
        "#import botocore\n",
        "\n",
        "def get_file(filename):\n",
        "  # get the file from the bucket\n",
        "  file_object = s3_client.get_object(Bucket=os.environ.get('BUCKET_NAME'), Key=filename)\n",
        "\n",
        "  # convert the file object to a text-based csv file then read the file contents into a table using the pandas read_csv function\n",
        "  data_file = io.BytesIO(file_object['Body'].read())\n",
        "  data = pd.read_csv(data_file)\n",
        "  return data\n",
        "\n",
        "data = get_file('schools_list.csv')\n",
        "print(data)\n",
        "\n",
        "\n",
        "\n",
        "def add_school_data_to_bucket(client, filename, filedata):\n",
        "    s3_client = boto3.client('s3')\n",
        "    s3 = boto3.resource('s3')\n",
        "    bucket = s3.Bucket(os.environ.get(\"BUCKET_NAME\"))\n",
        "    try:\n",
        "        obj = s3_client.get_object(Bucket=os.environ.get(\"BUCKET_NAME\"), Key=filename)\n",
        "        data = obj['Body'].read().decode('utf-8').splitlines()\n",
        "        records = csv.reader(data)\n",
        "        names_array = []\n",
        "        with open('/tmp/schools_list.csv', 'w', newline='') as f:\n",
        "            for row in records:\n",
        "                names_array.append(row[0])\n",
        "                writer = csv.writer(f)\n",
        "                writer.writerow(row)\n",
        "        new_data_rows = []\n",
        "        with open('/tmp/schools_list.csv', 'a', newline='') as f:\n",
        "            for i in filedata:\n",
        "                if i[0] not in names_array:\n",
        "                    new_data_rows.append(i)\n",
        "                    writer = csv.writer(f)\n",
        "                    writer.writerow(i)\n",
        "        if len(new_data_rows) == 0:\n",
        "            return \"These schools are already in a file\", []\n",
        "        else:\n",
        "            bucket.upload_file('/tmp/schools_list.csv', filename)\n",
        "            return \"New data been successfully added\", new_data_rows\n",
        "    except Exception as e:\n",
        "   #  if e.response[\"Error\"][\"Code\"] == \"NoSuchKey\":\n",
        "      headers = [\"Name\", 'Latitude', 'Longitude']\n",
        "      with open('/tmp/schools_list.csv', 'w', newline='') as f:\n",
        "                writer = csv.writer(f)\n",
        "                writer.writerow(headers)\n",
        "                for row in filedata:\n",
        "                    writer.writerow(row)\n",
        "      bucket.upload_file('/tmp/schools_list.csv', filename)\n",
        "      return \"New file been successfully created\", filedata\n",
        "        # else:\n",
        "        #     return e.response[\"Error\"][\"Code\"], []\n",
        "\n",
        "def show_schools_data_in_bucket(client, filename):\n",
        "    s3_client = boto3.client('s3')\n",
        "    s3 = boto3.resource('s3')\n",
        "    bucket = s3.Bucket(os.environ.get(\"BUCKET_NAME\"))\n",
        "    try:\n",
        "        obj = s3_client.get_object(Bucket=os.environ.get(\"BUCKET_NAME\"), Key=filename)\n",
        "        data = obj['Body'].read().decode('utf-8').splitlines()\n",
        "        records = csv.reader(data)\n",
        "        data_array =[]\n",
        "        for row in records:\n",
        "                         data_array.append(row)\n",
        "        print(data_array)\n",
        "        return \"The data has been found\", data_array\n",
        "    except botocore.exceptions.ClientError as e:\n",
        "        if e.response[\"Error\"][\"Code\"] == \"NoSuchKey\":\n",
        "            return \"There is no such file\", []\n",
        "        else:\n",
        "            return e.response[\"Error\"][\"Code\"], []\n",
        "    except:\n",
        "        return \"There was an error\", []\n",
        "\n",
        "\n"
      ],
      "metadata": {
        "id": "2o-HkfsuX26E",
        "outputId": "716b5765-a0cd-46e3-d54f-8d47b2cac8d4",
        "colab": {
          "base_uri": "https://localhost:8080/"
        }
      },
      "execution_count": 10,
      "outputs": [
        {
          "output_type": "stream",
          "name": "stdout",
          "text": [
            "                                               Name   Latitude  Longitude\n",
            "0              Bannockburn Primary School & Nursery  51.486917   0.101556\n",
            "1              St Margaret Clitherow Primary School  51.501033   0.113299\n",
            "2                Blackburn Primary School & Nursery  51.486917   0.101556\n",
            "3                St Greggs Clitherow Primary School  51.501033   0.113299\n",
            "4                            Parkway Primary School  51.492800   0.134105\n",
            "5   St Michael's East Wickham C of E Primary School  51.469340   0.119751\n",
            "6                    Jo Richardson Community School  51.534071   0.126278\n",
            "7              Woolwich Polytechnic School for Boys  51.503728   0.108188\n",
            "8                         Eastbury Community School  51.541569   0.091161\n",
            "9                                 King Henry School  51.473433   0.166117\n",
            "10                            Sydney Russell School  51.548620   0.133125\n",
            "11                                  Langdon Academy  51.532661   0.068439\n",
            "12        The Garard Academy Bexley Primary Section  51.493889   0.139243\n",
            "13                        Chestnut Tree Day Nursery  51.483525   0.147288\n",
            "14                                St Paul's Academy  51.492678   0.104446\n",
            "15                               Happi Feet Nursery  51.484597   0.154749\n",
            "16                                 BG Homework Club  51.509917   0.117159\n",
            "17                                 A B C Pre School  51.531973   0.146764\n",
            "18                                         Foxhouse  51.485381   0.157561\n",
            "19                           Pulse & Water Learning  51.493686   0.110290\n",
            "20              Bishop John Robinson Primary School  51.508239   0.118455\n",
            "21                            Kumon Maths & English  51.507820   0.108671\n",
            "22                                          School1   2.213100   2.342000\n",
            "23                                          School2   7.453400   7.345300\n"
          ]
        }
      ]
    },
    {
      "cell_type": "code",
      "source": [],
      "metadata": {
        "id": "v0NmETkGz0Pt"
      },
      "execution_count": null,
      "outputs": []
    },
    {
      "cell_type": "markdown",
      "source": [
        "### Upload a new file into your bucket\n",
        "\n",
        "---\n",
        "\n",
        "For this exercise you are going to make a new data file (using pandas.to_csv to make the csv file, then BytesIO to convert it into a bytes object that can be stored on S3)"
      ],
      "metadata": {
        "id": "5L3F6bV9iVJj"
      }
    },
    {
      "cell_type": "code",
      "source": [],
      "metadata": {
        "id": "z42dw1Q42x_7"
      },
      "execution_count": null,
      "outputs": []
    },
    {
      "cell_type": "code",
      "source": [
        "import boto3\n",
        "import json\n",
        "#from functions import add_school_data_to_bucket, show_schools_data_in_bucket\n",
        "\n",
        "\n",
        "def lambda_handler(event, context):\n",
        "    global message, return_data, statuscode\n",
        "    filename = \"schools_list.csv\"\n",
        "    client = boto3.client('s3')\n",
        "    if event[\"httpMethod\"] == \"POST\":\n",
        "        if \"body\" in event.keys():\n",
        "            request = event[\"body\"]\n",
        "            if type(request) is not dict:\n",
        "                request = json.loads(request)\n",
        "            if request is not None and \"data\" in request.keys():\n",
        "                data = request[\"data\"]\n",
        "                if len(data) == 0:\n",
        "                    message, return_data = \"Please enter a valid data\", []\n",
        "                    statuscode = 404\n",
        "                else:\n",
        "                    return_data= save_a_copy(data,'schools_list.csv')\n",
        "                    #message, return_data = add_school_data_to_bucket(client, filename, data)\n",
        "                    message=\"Yay! Success\"\n",
        "                    statuscode = 200\n",
        "            else:\n",
        "                message, return_data = \"Error in the POST request occured\", []\n",
        "                statuscode = 404\n",
        "    elif event[\"httpMethod\"] == \"GET\":\n",
        "       return_data= get_file('schools_list.csv')\n",
        "       message=\"Yay! Success\"\n",
        "       statuscode = 200\n",
        "       #message, return_data = show_schools_data_in_bucket(client, filename)\n",
        "    else:\n",
        "        message, return_data = \"Error occured\", []\n",
        "        statuscode = 404\n",
        "    return {'statusCode': statuscode,\n",
        "            'headers': {'Content-Type': 'application/json',\n",
        "                        'Access-Control-Allow-Headers': 'Content-Type,X-Api-Key',\n",
        "                        'Access-Control-Allow-Methods': 'POST',\n",
        "                        'Access-Control-Allow-Origin': '*'},\n",
        "            'body': json.dumps({\"message\": message, \"data\": return_data})\n",
        "            }\n"
      ],
      "metadata": {
        "id": "COYMBXPIR6X0"
      },
      "execution_count": 14,
      "outputs": []
    },
    {
      "cell_type": "code",
      "source": [
        "event= {\n",
        "    \"httpMethod\": \"POST\",\n",
        "    \"body\": {\n",
        "    \"data\": [\n",
        "        [\n",
        "            \"Bannockburn Primary School & Nursery\",\n",
        "            51.4869172,\n",
        "            0.1015561\n",
        "        ],\n",
        "        [\n",
        "            \"St Margaret Clitherow Primary School\",\n",
        "            51.50103289999999,\n",
        "            0.1132992\n",
        "        ]\n",
        "    ]\n",
        "}\n",
        "}\n",
        "\n",
        "\n",
        "lambda_handler(event, None)"
      ],
      "metadata": {
        "id": "hMbmalEDzva8",
        "colab": {
          "base_uri": "https://localhost:8080/"
        },
        "outputId": "7a21a768-5a52-432a-b036-363460422884"
      },
      "execution_count": 19,
      "outputs": [
        {
          "output_type": "stream",
          "name": "stdout",
          "text": [
            "[['Bannockburn Primary School & Nursery', 51.4869172, 0.1015561], ['St Margaret Clitherow Primary School', 51.50103289999999, 0.1132992]]\n"
          ]
        },
        {
          "output_type": "execute_result",
          "data": {
            "text/plain": [
              "{'statusCode': 200,\n",
              " 'headers': {'Content-Type': 'application/json',\n",
              "  'Access-Control-Allow-Headers': 'Content-Type,X-Api-Key',\n",
              "  'Access-Control-Allow-Methods': 'POST',\n",
              "  'Access-Control-Allow-Origin': '*'},\n",
              " 'body': '{\"message\": \"Yay! Success\", \"data\": {\"ResponseMetadata\": {\"RequestId\": \"4142VHF92V51S36H\", \"HostId\": \"1rj3Oyc1ack/h6+H6QPqF2lLBtjZdEKJQJWOkHp9eEPhSeMd4YtopVWf3dppeGLPajw4k+vsqQg=\", \"HTTPStatusCode\": 200, \"HTTPHeaders\": {\"x-amz-id-2\": \"1rj3Oyc1ack/h6+H6QPqF2lLBtjZdEKJQJWOkHp9eEPhSeMd4YtopVWf3dppeGLPajw4k+vsqQg=\", \"x-amz-request-id\": \"4142VHF92V51S36H\", \"date\": \"Mon, 11 Mar 2024 14:44:46 GMT\", \"x-amz-server-side-encryption\": \"AES256\", \"etag\": \"\\\\\"ddb9933f885c2a08fb1a37b457cb3b00\\\\\"\", \"server\": \"AmazonS3\", \"content-length\": \"0\"}, \"RetryAttempts\": 0}, \"ETag\": \"\\\\\"ddb9933f885c2a08fb1a37b457cb3b00\\\\\"\", \"ServerSideEncryption\": \"AES256\"}}'}"
            ]
          },
          "metadata": {},
          "execution_count": 19
        }
      ]
    },
    {
      "cell_type": "code",
      "source": [
        "def save_a_copy(filedata, filename):\n",
        "  # first copy the data into a new file (print it so that you know it has been done)\n",
        "  new_data = filedata.copy()\n",
        "  print(new_data)\n",
        "\n",
        "  # make a text file object to store the data in, then convert the data csv format and place inside the file object\n",
        "  file_object =  io.StringIO()\n",
        "  pd.DataFrame(new_data).to_csv(file_object, index=False)\n",
        "\n",
        "  # upload the file to the bucket with the filename and the file contents\n",
        "  response = s3_client.put_object(Bucket=os.environ.get('BUCKET_NAME'), Body=file_object.getvalue(), Key=filename)\n",
        "  return response\n",
        "\n",
        "response = save_a_copy(data, 'schools_list.csv')\n",
        "print(response)"
      ],
      "metadata": {
        "id": "qWBJVTI-lJ8t",
        "outputId": "520efad4-87df-40c3-f52f-9986fc276fdc",
        "colab": {
          "base_uri": "https://localhost:8080/"
        }
      },
      "execution_count": 18,
      "outputs": [
        {
          "output_type": "stream",
          "name": "stdout",
          "text": [
            "                                               Name   Latitude  Longitude\n",
            "0              Bannockburn Primary School & Nursery  51.486917   0.101556\n",
            "1              St Margaret Clitherow Primary School  51.501033   0.113299\n",
            "2                Blackburn Primary School & Nursery  51.486917   0.101556\n",
            "3                St Greggs Clitherow Primary School  51.501033   0.113299\n",
            "4                            Parkway Primary School  51.492800   0.134105\n",
            "5   St Michael's East Wickham C of E Primary School  51.469340   0.119751\n",
            "6                    Jo Richardson Community School  51.534071   0.126278\n",
            "7              Woolwich Polytechnic School for Boys  51.503728   0.108188\n",
            "8                         Eastbury Community School  51.541569   0.091161\n",
            "9                                 King Henry School  51.473433   0.166117\n",
            "10                            Sydney Russell School  51.548620   0.133125\n",
            "11                                  Langdon Academy  51.532661   0.068439\n",
            "12        The Garard Academy Bexley Primary Section  51.493889   0.139243\n",
            "13                        Chestnut Tree Day Nursery  51.483525   0.147288\n",
            "14                                St Paul's Academy  51.492678   0.104446\n",
            "15                               Happi Feet Nursery  51.484597   0.154749\n",
            "16                                 BG Homework Club  51.509917   0.117159\n",
            "17                                 A B C Pre School  51.531973   0.146764\n",
            "18                                         Foxhouse  51.485381   0.157561\n",
            "19                           Pulse & Water Learning  51.493686   0.110290\n",
            "20              Bishop John Robinson Primary School  51.508239   0.118455\n",
            "21                            Kumon Maths & English  51.507820   0.108671\n",
            "22                                          School1   2.213100   2.342000\n",
            "23                                          School2   7.453400   7.345300\n",
            "{'ResponseMetadata': {'RequestId': '2MZTZ3PPM4SBXFP8', 'HostId': '8vObxpBI65CWMNL81wuMbr09dXBNJ9S60yg2GgoYnLxF4VXhUpqCkLj7QNZWHU97cPF2YY4MygU=', 'HTTPStatusCode': 200, 'HTTPHeaders': {'x-amz-id-2': '8vObxpBI65CWMNL81wuMbr09dXBNJ9S60yg2GgoYnLxF4VXhUpqCkLj7QNZWHU97cPF2YY4MygU=', 'x-amz-request-id': '2MZTZ3PPM4SBXFP8', 'date': 'Mon, 11 Mar 2024 14:44:40 GMT', 'x-amz-server-side-encryption': 'AES256', 'etag': '\"83ab26f26626034518024c1a45bb9ee4\"', 'server': 'AmazonS3', 'content-length': '0'}, 'RetryAttempts': 0}, 'ETag': '\"83ab26f26626034518024c1a45bb9ee4\"', 'ServerSideEncryption': 'AES256'}\n"
          ]
        }
      ]
    },
    {
      "cell_type": "markdown",
      "source": [
        "### Create a serverless function that will read a file and return the data\n",
        "\n",
        "---\n"
      ],
      "metadata": {
        "id": "jh3eThd6SMTZ"
      }
    },
    {
      "cell_type": "markdown",
      "source": [
        "Learn how to read and write files to an S3 bucket, keeping the access keys secret. Write and test a serverless function that will read a csv file from s3 and return the contents."
      ],
      "metadata": {
        "id": "hMqA3Q6FR1Dh"
      }
    },
    {
      "cell_type": "code",
      "source": [],
      "metadata": {
        "id": "qwGPFmzpSfL3"
      },
      "execution_count": null,
      "outputs": []
    }
  ]
}