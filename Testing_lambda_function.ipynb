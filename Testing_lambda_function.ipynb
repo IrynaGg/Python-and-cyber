{
  "nbformat": 4,
  "nbformat_minor": 0,
  "metadata": {
    "colab": {
      "provenance": [],
      "include_colab_link": true
    },
    "kernelspec": {
      "name": "python3",
      "display_name": "Python 3"
    },
    "language_info": {
      "name": "python"
    }
  },
  "cells": [
    {
      "cell_type": "markdown",
      "metadata": {
        "id": "view-in-github",
        "colab_type": "text"
      },
      "source": [
        "<a href=\"https://colab.research.google.com/github/IrynaGg/Python-and-cyber/blob/main/Testing_lambda_function.ipynb\" target=\"_parent\"><img src=\"https://colab.research.google.com/assets/colab-badge.svg\" alt=\"Open In Colab\"/></a>"
      ]
    },
    {
      "cell_type": "markdown",
      "source": [
        "Testing lambda function in Colab"
      ],
      "metadata": {
        "id": "u6xfp7NvETlP"
      }
    },
    {
      "cell_type": "code",
      "source": [
        "!pip install boto3"
      ],
      "metadata": {
        "id": "jHUliNAyWlej",
        "outputId": "379ab132-43d3-4287-bbc1-268b74c56809",
        "colab": {
          "base_uri": "https://localhost:8080/"
        }
      },
      "execution_count": 2,
      "outputs": [
        {
          "output_type": "stream",
          "name": "stdout",
          "text": [
            "Requirement already satisfied: boto3 in /usr/local/lib/python3.10/dist-packages (1.34.64)\n",
            "Requirement already satisfied: botocore<1.35.0,>=1.34.64 in /usr/local/lib/python3.10/dist-packages (from boto3) (1.34.64)\n",
            "Requirement already satisfied: jmespath<2.0.0,>=0.7.1 in /usr/local/lib/python3.10/dist-packages (from boto3) (1.0.1)\n",
            "Requirement already satisfied: s3transfer<0.11.0,>=0.10.0 in /usr/local/lib/python3.10/dist-packages (from boto3) (0.10.1)\n",
            "Requirement already satisfied: python-dateutil<3.0.0,>=2.1 in /usr/local/lib/python3.10/dist-packages (from botocore<1.35.0,>=1.34.64->boto3) (2.8.2)\n",
            "Requirement already satisfied: urllib3!=2.2.0,<3,>=1.25.4 in /usr/local/lib/python3.10/dist-packages (from botocore<1.35.0,>=1.34.64->boto3) (2.0.7)\n",
            "Requirement already satisfied: six>=1.5 in /usr/local/lib/python3.10/dist-packages (from python-dateutil<3.0.0,>=2.1->botocore<1.35.0,>=1.34.64->boto3) (1.16.0)\n"
          ]
        }
      ]
    },
    {
      "cell_type": "code",
      "source": [
        "!pip install botocore"
      ],
      "metadata": {
        "colab": {
          "base_uri": "https://localhost:8080/"
        },
        "id": "vvR7XA_m6sCg",
        "outputId": "66cbfa28-4408-429e-eac0-0d95cb062c20"
      },
      "execution_count": 3,
      "outputs": [
        {
          "output_type": "stream",
          "name": "stdout",
          "text": [
            "Requirement already satisfied: botocore in /usr/local/lib/python3.10/dist-packages (1.34.64)\n",
            "Requirement already satisfied: jmespath<2.0.0,>=0.7.1 in /usr/local/lib/python3.10/dist-packages (from botocore) (1.0.1)\n",
            "Requirement already satisfied: python-dateutil<3.0.0,>=2.1 in /usr/local/lib/python3.10/dist-packages (from botocore) (2.8.2)\n",
            "Requirement already satisfied: urllib3!=2.2.0,<3,>=1.25.4 in /usr/local/lib/python3.10/dist-packages (from botocore) (2.0.7)\n",
            "Requirement already satisfied: six>=1.5 in /usr/local/lib/python3.10/dist-packages (from python-dateutil<3.0.0,>=2.1->botocore) (1.16.0)\n"
          ]
        }
      ]
    },
    {
      "cell_type": "markdown",
      "source": [
        "### Save your access key, and secret key in an environment variable\n",
        "---\n",
        "\n"
      ],
      "metadata": {
        "id": "EZhg5WXdW8na"
      }
    },
    {
      "cell_type": "code",
      "execution_count": 4,
      "metadata": {
        "id": "0V-74wDUUCiC"
      },
      "outputs": [],
      "source": [
        "import os\n",
        "from IPython.display import clear_output\n",
        "\n",
        "def set_environment_variable_values():\n",
        "  ACCESS_KEY = input(\"Please enter the AWS access key: \")\n",
        "  SECRET_ACCESS_KEY = input(\"Please enter the AWS secret access key: \")\n",
        "  BUCKET_NAME = input(\"Please enter the name of the bucket in S3: \")\n",
        "  os.environ['ACCESS_KEY'] = ACCESS_KEY\n",
        "  os.environ['SECRET_ACCESS_KEY'] = SECRET_ACCESS_KEY\n",
        "  os.environ['BUCKET_NAME'] = BUCKET_NAME\n",
        "  clear_output()\n",
        "  return None\n",
        "\n",
        "set_environment_variable_values()\n"
      ]
    },
    {
      "cell_type": "markdown",
      "source": [
        "### Create a connection to the S3 bucket\n",
        "---\n",
        "\n",
        "In order to work with files in the bucket you will need a 'client'.  This will be the worker that will do the fetching and storing.  The code below will set up this client and the output will show that a client has been created."
      ],
      "metadata": {
        "id": "EyLPbMMlTe63"
      }
    },
    {
      "cell_type": "code",
      "source": [
        "import boto3\n",
        "\n",
        "def get_S3_client():\n",
        "\tresource = boto3.client(\n",
        "     \"s3\",\n",
        "\t\taws_access_key_id = os.environ.get('ACCESS_KEY'),\n",
        "\t\taws_secret_access_key = os.environ.get('SECRET_ACCESS_KEY')\n",
        "\t)\n",
        "\treturn resource\n",
        "\n",
        "s3_client = get_S3_client()\n",
        "print(s3_client)"
      ],
      "metadata": {
        "colab": {
          "base_uri": "https://localhost:8080/"
        },
        "id": "xm0Hz9JEUwxE",
        "outputId": "4883d1e4-4518-490d-e98d-0045e3a535a6"
      },
      "execution_count": 5,
      "outputs": [
        {
          "output_type": "stream",
          "name": "stdout",
          "text": [
            "<botocore.client.S3 object at 0x7e9a33ffb8e0>\n"
          ]
        }
      ]
    },
    {
      "cell_type": "markdown",
      "source": [
        "### Opening a file from S3\n",
        "---\n",
        "\n",
        "You can upload this file to your bucket, through the AWS console.  \n",
        "\n",
        "*  Download the file (population.csv) from here:  https://drive.google.com/file/d/1Mj2f56YrgWL6eYUF9zOf0Pph8NhJAIe0/view?usp=sharing\n",
        "\n",
        "*  Open the AWS dashboard and select S3 as the service.  \n",
        "\n",
        "*  Find your bucket and click on its link to open it.  \n",
        "\n",
        "*  Click on **upload**, select the file and upload\n",
        "\n",
        "Now that the file is in the bucket, use the code below to open it."
      ],
      "metadata": {
        "id": "qfwQ9T_ZV4oa"
      }
    },
    {
      "cell_type": "code",
      "source": [
        "import pandas as pd\n",
        "import io\n",
        "\n",
        "def add_school_data_to_bucket(filename, filedata):\n",
        "    try:\n",
        "      file_object = s3_client.get_object(Bucket=os.environ.get('BUCKET_NAME'), Key=filename)\n",
        "      data_file = io.BytesIO(file_object['Body'].read())\n",
        "      data = pd.read_csv(data_file)\n",
        "      data_list = data.values.tolist()\n",
        "      names_array = []\n",
        "      for row in data_list:\n",
        "        names_array.append(row[0])\n",
        "      new_data = []\n",
        "      for school in filedata:\n",
        "        if school[0] not in names_array:\n",
        "          new_data.append(school)\n",
        "      if len(new_data) == 0:\n",
        "        return \"This schools already in a file\", []\n",
        "      else:\n",
        "        for row in new_data:\n",
        "          data_list.append(row)\n",
        "        headers = [\"Name\", 'Latitude', 'Longitude']\n",
        "        file_object =  io.StringIO()\n",
        "        pd.DataFrame(data_list, columns=headers).to_csv(file_object, index=False)\n",
        "        s3_client.put_object(Bucket=os.environ.get('BUCKET_NAME'), Body=file_object.getvalue(), Key=filename)\n",
        "      return \"New data successfully added\", new_data\n",
        "    except Exception as e:\n",
        "      if str(e) == \"An error occurred (NoSuchKey) when calling the GetObject operation: The specified key does not exist.\":\n",
        "        headers = [\"Name\", 'Latitude', 'Longitude']\n",
        "        file_object =  io.StringIO()\n",
        "        pd.DataFrame(filedata, columns=headers).to_csv(file_object, index=False)\n",
        "        s3_client.put_object(Bucket=os.environ.get('BUCKET_NAME'), Body=file_object.getvalue(), Key=filename)\n",
        "        return \"New file successfully created\", filedata\n",
        "      else:\n",
        "       return str(e), []\n",
        "\n",
        "def show_schools_data_in_bucket(filename):\n",
        "    try:\n",
        "        file_object = s3_client.get_object(Bucket=os.environ.get('BUCKET_NAME'), Key=filename)\n",
        "        data_file = io.BytesIO(file_object['Body'].read())\n",
        "        data = pd.read_csv(data_file)\n",
        "        data_list = data.values.tolist()\n",
        "        return \"The data has been found\", data_list\n",
        "    except Exception as e:\n",
        "        return \"There is no such file\", []"
      ],
      "metadata": {
        "id": "DRp2MX0OkKU4"
      },
      "execution_count": 47,
      "outputs": []
    },
    {
      "cell_type": "code",
      "source": [],
      "metadata": {
        "id": "v0NmETkGz0Pt"
      },
      "execution_count": null,
      "outputs": []
    },
    {
      "cell_type": "markdown",
      "source": [
        "### Upload a new file into your bucket\n",
        "\n",
        "---\n",
        "\n",
        "For this exercise you are going to make a new data file (using pandas.to_csv to make the csv file, then BytesIO to convert it into a bytes object that can be stored on S3)"
      ],
      "metadata": {
        "id": "5L3F6bV9iVJj"
      }
    },
    {
      "cell_type": "code",
      "source": [],
      "metadata": {
        "id": "z42dw1Q42x_7"
      },
      "execution_count": null,
      "outputs": []
    },
    {
      "cell_type": "code",
      "source": [
        "\n",
        "import json\n",
        "#from functions import add_school_data_to_bucket, show_schools_data_in_bucket\n",
        "\n",
        "\n",
        "def lambda_handler(event, context):\n",
        "    global message, return_data, statuscode\n",
        "    filename = \"schools_list.csv\"\n",
        "    if event[\"httpMethod\"] == \"POST\":\n",
        "        if \"body\" in event.keys():\n",
        "            request = event[\"body\"]\n",
        "            if type(request) is not dict:\n",
        "                request = json.loads(request)\n",
        "            if request is not None and \"data\" in request.keys():\n",
        "                data = request[\"data\"]\n",
        "                if len(data) == 0:\n",
        "                    message, return_data = \"Please enter a valid data\", []\n",
        "                    statuscode = 404\n",
        "                else:\n",
        "                    message, return_data = add_school_data_to_bucket(filename, data)\n",
        "                    statuscode = 200\n",
        "            else:\n",
        "                message, return_data = \"Error in the POST request occured\", []\n",
        "                statuscode = 404\n",
        "    elif event[\"httpMethod\"] == \"GET\":\n",
        "       message, return_data = show_schools_data_in_bucket(filename)\n",
        "       statuscode = 200\n",
        "    else:\n",
        "        message, return_data = \"Error occured\", []\n",
        "        statuscode = 404\n",
        "    return {'statusCode': statuscode,\n",
        "            'headers': {'Content-Type': 'application/json',\n",
        "                        'Access-Control-Allow-Headers': 'Content-Type,X-Api-Key',\n",
        "                        'Access-Control-Allow-Methods': 'POST',\n",
        "                        'Access-Control-Allow-Origin': '*'},\n",
        "            'body': {\"message\": message, \"data\": []}\n",
        "            }\n"
      ],
      "metadata": {
        "id": "COYMBXPIR6X0"
      },
      "execution_count": 7,
      "outputs": []
    },
    {
      "cell_type": "markdown",
      "source": [
        "### Test 1 - creating a new file\n",
        "---\n"
      ],
      "metadata": {
        "id": "jh3eThd6SMTZ"
      }
    },
    {
      "cell_type": "code",
      "source": [
        "event= {\n",
        "    \"httpMethod\": \"POST\",\n",
        "    \"body\": {\n",
        "    \"data\": [\n",
        "        [\n",
        "            \"Bannockburn Primary School\",\n",
        "            51.4869172,\n",
        "            0.1015561\n",
        "        ],\n",
        "        [\n",
        "            \"St Margaret Clitherow Primary School\",\n",
        "            51.50103289999999,\n",
        "            0.1132992\n",
        "        ]\n",
        "    ]\n",
        "}\n",
        "}\n",
        "\n",
        "test1 = lambda_handler(event, None)\n",
        "\n",
        "if test1['body']['message'] == \"New file successfully created\":\n",
        "  print(\"Test 1 passed\")\n",
        "else:\n",
        "  print(\"Test 1 failed\")"
      ],
      "metadata": {
        "id": "qwGPFmzpSfL3",
        "colab": {
          "base_uri": "https://localhost:8080/"
        },
        "outputId": "0a9abdbb-821f-41c0-e2fa-9d0983375007"
      },
      "execution_count": 55,
      "outputs": [
        {
          "output_type": "stream",
          "name": "stdout",
          "text": [
            "Test 1 passed\n"
          ]
        }
      ]
    },
    {
      "cell_type": "markdown",
      "source": [
        "### Test 2 - adding a new data in a new file"
      ],
      "metadata": {
        "id": "3fSmeEFiloyT"
      }
    },
    {
      "cell_type": "code",
      "source": [
        "event = {\n",
        "    \"httpMethod\": \"POST\",\n",
        "    \"body\": {\n",
        "    \"data\": [\n",
        "        [\n",
        "        'Jesmond Park',\n",
        "         54.9939443,\n",
        "         -1.588097\n",
        "        ]\n",
        "    ]\n",
        "}\n",
        "}\n",
        "\n",
        "test2 = lambda_handler(event, None)\n",
        "\n",
        "if test2['body']['message'] == \"New data successfully added\":\n",
        "  print(\"Test 2 passed\")\n",
        "else:\n",
        "  print(\"Test 2 failed\")"
      ],
      "metadata": {
        "colab": {
          "base_uri": "https://localhost:8080/"
        },
        "id": "nH7lcah1lvnf",
        "outputId": "b6b54536-dc60-4de3-9792-e78a23f4226e"
      },
      "execution_count": 56,
      "outputs": [
        {
          "output_type": "stream",
          "name": "stdout",
          "text": [
            "Test 2 passed\n"
          ]
        }
      ]
    },
    {
      "cell_type": "markdown",
      "source": [
        "### Test 3 - GET request when file doesn't exists"
      ],
      "metadata": {
        "id": "RhkWPAQDl2I3"
      }
    },
    {
      "cell_type": "code",
      "source": [
        "event= {\n",
        "    \"httpMethod\": \"GET\",\n",
        "}\n",
        "\n",
        "test3 = lambda_handler(event, None)\n",
        "\n",
        "if test3['body']['message'] == \"There is no such file\":\n",
        "  print(\"Test 3 passed\")\n",
        "else:\n",
        "  print(\"Test 3 failed\")\n",
        "\n",
        "\n"
      ],
      "metadata": {
        "colab": {
          "base_uri": "https://localhost:8080/"
        },
        "id": "GOHOQ2hHl7oH",
        "outputId": "4fbe1820-32ca-495d-a712-d302ddbf4d8e"
      },
      "execution_count": 54,
      "outputs": [
        {
          "output_type": "stream",
          "name": "stdout",
          "text": [
            "Test 3 passed\n"
          ]
        }
      ]
    },
    {
      "cell_type": "markdown",
      "source": [
        "### Test 4 - GET request of file with data"
      ],
      "metadata": {
        "id": "Mh1IyekbmCZ9"
      }
    },
    {
      "cell_type": "code",
      "source": [
        "event= {\n",
        "    \"httpMethod\": \"GET\",\n",
        "}\n",
        "\n",
        "test4 = lambda_handler(event, None)\n",
        "\n",
        "if test4['body']['message'] == \"The data has been found\":\n",
        "  print(\"Test 4 passed\")\n",
        "else:\n",
        "  print(\"Test 4 failed\")"
      ],
      "metadata": {
        "colab": {
          "base_uri": "https://localhost:8080/"
        },
        "id": "bjRk1r2ImEUp",
        "outputId": "c38f53cb-fb80-4103-a440-a55479f49e1d"
      },
      "execution_count": 57,
      "outputs": [
        {
          "output_type": "stream",
          "name": "stdout",
          "text": [
            "Test 4 passed\n"
          ]
        }
      ]
    }
  ]
}