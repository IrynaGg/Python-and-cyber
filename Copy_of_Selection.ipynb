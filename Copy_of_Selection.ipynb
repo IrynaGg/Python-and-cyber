{
  "nbformat": 4,
  "nbformat_minor": 0,
  "metadata": {
    "colab": {
      "provenance": [],
      "include_colab_link": true
    },
    "kernelspec": {
      "name": "python3",
      "display_name": "Python 3"
    },
    "language_info": {
      "name": "python"
    }
  },
  "cells": [
    {
      "cell_type": "markdown",
      "metadata": {
        "id": "view-in-github",
        "colab_type": "text"
      },
      "source": [
        "<a href=\"https://colab.research.google.com/github/IrynaGg/Python-and-cyber/blob/main/Copy_of_Selection.ipynb\" target=\"_parent\"><img src=\"https://colab.research.google.com/assets/colab-badge.svg\" alt=\"Open In Colab\"/></a>"
      ]
    },
    {
      "cell_type": "markdown",
      "source": [
        "<a href=\"https://colab.research.google.com/github/StefanMeyer7/Python-Fundamentals/blob/main/Selection.ipynb\" target=\"_parent\"><img src=\"https://colab.research.google.com/assets/colab-badge.svg\" alt=\"Open In Colab\"/></a>"
      ],
      "metadata": {
        "id": "hypbENCo_DGn"
      }
    },
    {
      "cell_type": "markdown",
      "source": [
        "## Selection (if...elif...else)\n",
        "\n",
        "---\n"
      ],
      "metadata": {
        "id": "lTb7kV0B-iVj"
      }
    },
    {
      "cell_type": "markdown",
      "source": [
        "A key part of problem solving is decision making.  Decisions are based on data and have a set of outcomes depending on that data.\n",
        "\n",
        "A program is a sequence of instructions to be followed by the computer, to solve a particular problem.    \n",
        "\n",
        "It is not always useful for programs to do the exact same thing every time, in exactly the same way.  \n",
        "\n",
        "Say we have a program that will tell someone if they are too young to drive a car. We don't want it to tell them this if they are over 17. So we use an if statement to say: if the user's age is less than 17, tell them they are too young to drive a car.\n",
        "\n",
        "Run the code in the cell below to see if it works for the years 2006 and 2000"
      ],
      "metadata": {
        "id": "VzBWxE1u-i-x"
      }
    },
    {
      "cell_type": "code",
      "source": [
        "from datetime import datetime\n",
        "\n",
        "# determine if user is old enough to drive\n",
        "def drive_age():\n",
        "    birth_year = int(input(\"What year were you born?\"))\n",
        "    current_year = datetime.now().year\n",
        "    age = current_year - birth_year\n",
        "    if age < 17:\n",
        "        print(\"You are too young to drive a car\")\n",
        "\n",
        "drive_age()"
      ],
      "metadata": {
        "id": "vfhzZYV8-kyX",
        "colab": {
          "base_uri": "https://localhost:8080/"
        },
        "outputId": "362c07dc-2e3b-4831-8ce9-e85b1fe42c4c"
      },
      "execution_count": 2,
      "outputs": [
        {
          "output_type": "stream",
          "name": "stdout",
          "text": [
            "What year were you born? 2015\n",
            "You are too young to drive a car\n"
          ]
        }
      ]
    },
    {
      "cell_type": "markdown",
      "source": [
        "---\n",
        "## Using else    \n",
        "\n",
        "So the program tells someone if they are too young to drive but if they are old enough it doesn't do anything. We need to give it an alternative action.  \n",
        "\n",
        "Run the code in the cell below to see if it works for the years 2006 and 2000  "
      ],
      "metadata": {
        "id": "v39YFr6i-nkq"
      }
    },
    {
      "cell_type": "code",
      "source": [
        "from datetime import datetime\n",
        "\n",
        "# determine if user is old enough to drive or not\n",
        "def drive_age():\n",
        "    birth_year = int(input(\"What year were you born?\"))\n",
        "    current_year = datetime.now().year\n",
        "    age = current_year - birth_year\n",
        "    if age < 17:\n",
        "        print(\"You are too young to drive a car\")\n",
        "    else:\n",
        "        print(\"You are old enough to drive a car\")\n",
        "\n",
        "drive_age()"
      ],
      "metadata": {
        "id": "EBM08-uw-rwr",
        "colab": {
          "base_uri": "https://localhost:8080/"
        },
        "outputId": "d23083c2-e386-4004-9196-6c678fab3cfb"
      },
      "execution_count": 4,
      "outputs": [
        {
          "output_type": "stream",
          "name": "stdout",
          "text": [
            "What year were you born?2000\n",
            "You are old enough to drive a car\n"
          ]
        }
      ]
    },
    {
      "cell_type": "markdown",
      "source": [
        "So an if statement is written like this:  \n",
        "\n",
        "```\n",
        "if A CONDITION IS TRUE :  \n",
        "  DO SOMETHING  \n",
        "else:  \n",
        "  DO SOMETHING ELSE\n",
        "```\n",
        "\n",
        "\n",
        "Important things to know:  \n",
        "\n",
        "A CONDITION can be *True* or *False* either because it is a boolean variable (storing the value True or False) or because it is using some form of comparison or logical operator:\n",
        "\n",
        "age < 17\n",
        "This is *True* if the value of **age** is less than 17 and *False* if the value of age is 17 or above\n",
        "\n",
        "name == \"Bill\"\n",
        "This is *True* if the value of the variable **name** is \"Bill\" and *False* if the value is any other name\n",
        "\n",
        "height >= 150\n",
        "This is *True* if the value of **height** is greater than, or equal to, 150 and *False* if the value is less than 150\n",
        "\n",
        "### What if there is more than one option?\n",
        "If you ask someone their age, then there may be a number of different things you can print depending on what it is:  \n",
        "\n",
        "Run the code in the cell below, try some different ages to get different results.    "
      ],
      "metadata": {
        "id": "vEI6wnmL-uLl"
      }
    },
    {
      "cell_type": "code",
      "source": [
        "def age_to_drive():\n",
        "    age = int(input(\"Please enter your age\"))\n",
        "    if age >= 17:\n",
        "        print(\"You are old enough to drive\")\n",
        "    elif age >= 13:\n",
        "        print(\"You are too young to drive but you are old enough to have a social media account\")\n",
        "    else:\n",
        "        print(\"You are too young to drive and to have a social media account\")\n",
        "\n",
        "age_to_drive()"
      ],
      "metadata": {
        "id": "vHhN7lPi-vr-",
        "colab": {
          "base_uri": "https://localhost:8080/"
        },
        "outputId": "dc0c1303-177a-4e63-fef7-3f67ada81266"
      },
      "execution_count": 5,
      "outputs": [
        {
          "output_type": "stream",
          "name": "stdout",
          "text": [
            "Please enter your age14\n",
            "You are too young to drive but you are old enough to have a social media account\n"
          ]
        }
      ]
    },
    {
      "cell_type": "markdown",
      "source": [
        "Here's another example, try this one out:    \n",
        "*  ask the user to enter their **name**.    \n",
        "*  if their `name` is Bill then print \"Where is Ben?\"  \n",
        "*  if their `name` is Ben print \"Where is Bill?\"  \n",
        "*  otherwise print \"Where are Bill and Ben?\"  "
      ],
      "metadata": {
        "id": "MajARFmo-y1W"
      }
    },
    {
      "cell_type": "code",
      "source": [
        "def bill_or_ben():\n",
        "    name = input(\"What is your name?\")\n",
        "    if name == \"Bill\":\n",
        "      print(\"Where is Ben?\")\n",
        "    elif name == \"Ben\":\n",
        "      print(\"Where is Bill?\")\n",
        "    else:\n",
        "      print(\"Where are Bill and Ben?\")\n",
        "\n",
        "bill_or_ben()"
      ],
      "metadata": {
        "id": "zBLCkev_-0s9",
        "colab": {
          "base_uri": "https://localhost:8080/"
        },
        "outputId": "fb608f12-fd09-4db5-e158-292ffd48e0e0"
      },
      "execution_count": 9,
      "outputs": [
        {
          "output_type": "stream",
          "name": "stdout",
          "text": [
            "What is your name?Bill\n",
            "Where is Ben?\n"
          ]
        }
      ]
    },
    {
      "cell_type": "markdown",
      "source": [
        "---\n",
        "### Exercise 1  - if and else\n",
        "\n",
        "Write a function called **find_greater()** which will:\n",
        "\n",
        "*  ask the user for 2 numbers (**num1** and **num2**)  \n",
        "*  use an if statement that compares the two numbers and prints the one that is the greater of the two.  "
      ],
      "metadata": {
        "id": "9rrdAWZp-2S7"
      }
    },
    {
      "cell_type": "code",
      "source": [
        "def find_greater():\n",
        "  num1=int(input(\"please enter a number: \"))\n",
        "  num2=int(input(\"please enter a number: \"))\n",
        "  if num1>num2:\n",
        "    print(num1)\n",
        "  else:\n",
        "    print(num2)\n",
        "find_greater()"
      ],
      "metadata": {
        "id": "GZXrhYRh-4Kp",
        "colab": {
          "base_uri": "https://localhost:8080/"
        },
        "outputId": "049a0b2e-351b-4cde-fb8d-4a08ce951edd"
      },
      "execution_count": 10,
      "outputs": [
        {
          "output_type": "stream",
          "name": "stdout",
          "text": [
            "please enter a number: 3\n",
            "please enter a number: 5\n",
            "5\n"
          ]
        }
      ]
    },
    {
      "cell_type": "markdown",
      "source": [
        "---\n",
        "### Exercise 2 -\n",
        "\n",
        "Write a function called **guess_number(random_number)** which will use the generated **random_number**, between 1 and 100, provided in the brackets (called a parameter):  \n",
        "\n",
        "*  ask the user to **guess** the `random_number`  \n",
        "*  if the `guess` is greater than the `random_number` print \"Too high\"  \n",
        "*  else if the `guess` is less than the `random_number` print \"Too low\"  \n"
      ],
      "metadata": {
        "id": "8YpiGWK6-5Oz"
      }
    },
    {
      "cell_type": "code",
      "source": [
        "from random import randint\n",
        "\n",
        "def guess_number(randomNumber):\n",
        "  # add your code below here\n",
        "  random_number= int (randint(1,100))\n",
        "  guess= int(input(\"enter a random number:\"))\n",
        "  if guess>random_number:\n",
        "    print(\"Too high\")\n",
        "  elif guess<random_number:\n",
        "    print(\"Too low\")\n",
        "\n",
        "guess_number(randint(1,100))"
      ],
      "metadata": {
        "id": "uhADiWIW-6c6",
        "colab": {
          "base_uri": "https://localhost:8080/"
        },
        "outputId": "08eea097-05f7-49ca-8582-1a6c6e4ba6a2"
      },
      "execution_count": 23,
      "outputs": [
        {
          "output_type": "stream",
          "name": "stdout",
          "text": [
            "enter a random number:14\n",
            "Too low\n"
          ]
        }
      ]
    },
    {
      "cell_type": "markdown",
      "source": [
        "---\n",
        "### Exercise 3 - AM or PM\n",
        "\n",
        "Write a function called **is_afternoon()** which will:\n",
        "\n",
        "*  ask the user to enter the **time** in 24 hour clock format (e.g. 1759)  \n",
        "*  use floor division (by 100) to calculate the **hour**  \n",
        "*  use modulus (100) to calculate the **minutes**  \n",
        "*  if the **hour** is 12 or greater, assign \"PM\" to a variable called **am_pm** AND subtract 12 from `hour` and store the result back in `hour`  \n",
        "*  else assign \"AM\" to the `am_pm` variable   \n",
        "*  assign the value str(`hour`) + \":\" + str(`minutes`) + `am_pm` to a new variable called **text_time**  \n",
        "*  print the message \"The time is\", `text_time`    \n",
        "\n",
        "Test input:  \n",
        "1759  \n",
        "\n",
        "Expected output:  \n",
        "The time is 5:59PM  \n",
        "\n",
        "Test input:  \n",
        "1132  \n",
        "\n",
        "Expected output:  \n",
        "The time is 11:32AM"
      ],
      "metadata": {
        "id": "Op5aC1Pb-714"
      }
    },
    {
      "cell_type": "code",
      "source": [
        "def is_afternoon():\n",
        "  time= int(input(\"please enter time: \"))\n",
        "  hour=time//100\n",
        "  minutes= time%100\n",
        "  #am_pm= hour >12 - remove the line for clarity\n",
        "\n",
        "\n",
        "  if hour>= 12 :\n",
        "     hour -=12\n",
        "     am_pm= \"PM\"\n",
        "  else :\n",
        "     am_pm= \"AM\"\n",
        "  text_time= str(hour)+ \":\"+ str(minutes)+ str(am_pm)\n",
        "  print(\"The time is\", text_time)\n",
        "\n",
        "is_afternoon()"
      ],
      "metadata": {
        "id": "TNpm-5N0-8s4",
        "colab": {
          "base_uri": "https://localhost:8080/"
        },
        "outputId": "a207ef72-4b92-4901-98f2-0f36fb3c7e54"
      },
      "execution_count": 58,
      "outputs": [
        {
          "output_type": "stream",
          "name": "stdout",
          "text": [
            "please enter time: 1145\n",
            "The time is 11:45AM\n"
          ]
        }
      ]
    },
    {
      "cell_type": "markdown",
      "source": [
        "---\n",
        "### Exercise 4 - Getting a number within limits\n",
        "\n",
        "Write a function called **validate()** which will:\n",
        "\n",
        "*  ask the user to enter a **number** between 1 and 100  \n",
        "*  if the `number` is less than 1 or more than 100, print the error message \"Number out of limits\"  \n",
        "*  else print \"Your number was\" followed by the `number`\n",
        "\n",
        "Test input:  \n",
        "50  \n",
        "\n",
        "Expected output:  \n",
        "Your number was 50  \n",
        "\n",
        "Test input:  \n",
        "150  \n",
        "\n",
        "Expected output:  \n",
        "Number out of limits"
      ],
      "metadata": {
        "id": "YLRfH_lX-9LY"
      }
    },
    {
      "cell_type": "code",
      "source": [
        "def validate():\n",
        " number= int(input(\"Please enter a number between 1 and 100: \"))\n",
        " if number<1 or number>100:\n",
        "   print(\"Number out of limits\")\n",
        " else:\n",
        "   print(\"Your number was\", number)\n",
        "\n",
        "validate()"
      ],
      "metadata": {
        "id": "cGKytvBY_AMS",
        "colab": {
          "base_uri": "https://localhost:8080/"
        },
        "outputId": "c04c24fc-7fe0-4701-a987-8b9c621cc0cf"
      },
      "execution_count": 59,
      "outputs": [
        {
          "output_type": "stream",
          "name": "stdout",
          "text": [
            "Please enter a number between 1 and 100: 456\n",
            "Number out of limits\n"
          ]
        }
      ]
    },
    {
      "cell_type": "markdown",
      "source": [
        "---\n",
        "### Exercise 5 - getting a menu choice  \n",
        "\n",
        "Write a function called **process_menu()** which will:\n",
        "\n",
        "*  print the following menu:  \n",
        "\n",
        "What value would you like to see?  \n",
        "\n",
        "1. Pi  \n",
        "2. Plank’s constant  \n",
        "3. E  \n",
        "4. Square root of 2  \n",
        "\n",
        "*  ask the user to choose a **menu_option**  \n",
        "*  if the `menu_option` chosen is not between 1 and 4, print \"Invalid choice\"  \n",
        "*  else print the number of the `menu_option` chosen\n",
        "\n",
        "Test input:  \n",
        "2  \n",
        "\n",
        "Expected output:  \n",
        "2  \n",
        "\n",
        "Test input:  \n",
        "5  \n",
        "\n",
        "Expected output:  \n",
        "Invalid choice"
      ],
      "metadata": {
        "id": "2uybulo7_AxA"
      }
    },
    {
      "cell_type": "code",
      "source": [
        "def process_menu():\n",
        "  menu_option=int(input(\"choose a menu option between 1 and 4:\"))\n",
        "  if menu_option<1 or menu_option>4:\n",
        "    print(\"Invalid choice\")\n",
        "  else:\n",
        "    print(menu_option)\n",
        "\n",
        "process_menu()"
      ],
      "metadata": {
        "id": "TXPKKhAF_CQ2",
        "colab": {
          "base_uri": "https://localhost:8080/"
        },
        "outputId": "755b757b-8506-45a3-97c8-586f5f2276b4"
      },
      "execution_count": 62,
      "outputs": [
        {
          "output_type": "stream",
          "name": "stdout",
          "text": [
            "choose a menu option between 1 and 4:3\n",
            "3\n"
          ]
        }
      ]
    },
    {
      "cell_type": "markdown",
      "source": [
        "---\n",
        "### Exercise 6 - acting on menu choice  \n",
        "\n",
        "Write a function called **process_menu_options()** which will:  \n",
        "\n",
        "*  print the following menu:  \n",
        "\n",
        "What value would you like to see?  \n",
        "\n",
        "1. Pi  \n",
        "2. Plank’s constant  \n",
        "3. E  \n",
        "4. Square root of 2  \n",
        "\n",
        "*  ask the user to choose a **menu_option**  \n",
        "*  if the `menu_option` is 1 print 3.14159265359  \n",
        "*  otherwise (*elif*) the `menu_option` is 2 print 6.62607004 × 10-34 (in Python this would be written 6.62607004E-34  \n",
        "*  otherwise if the `menu_option` is 3 - print 2.71828  \n",
        "*  otherwise if the `menu_option` is 4 - print 1.414  \n",
        "*  otherwise if the `menu_option` is anything *else* - print \"Invalid choice\"  \n",
        "\n",
        "Test input:  \n",
        "1  \n",
        "\n",
        "Expected output:  \n",
        "3.14159265359\n",
        "\n",
        "Test input:  \n",
        "4  \n",
        "\n",
        "Expected output:  \n",
        "1.414  \n",
        "\n",
        "Test input:  \n",
        "9  \n",
        "\n",
        "Expected output:  \n",
        "Invalid choice\n"
      ],
      "metadata": {
        "id": "JU7C1jmp_DVa"
      }
    },
    {
      "cell_type": "code",
      "source": [
        "def process_menu_options():\n",
        "  print(\"Menu options:\")\n",
        "  print(\"1.Pi\")\n",
        "  print(\"2.Plank’s constant\")\n",
        "  print(\"3.E\")\n",
        "  print(\"4.Square root of 2\")\n",
        "  menu_option= int(input(\"Please choose a menu option:\"))\n",
        "  if menu_option==1:\n",
        "    print(\"3.14159265359\")\n",
        "  elif menu_option==2:\n",
        "    print(\"6.62607004 × 10-34\")\n",
        "  elif menu_option==3:\n",
        "    print(\"2.71828\")\n",
        "  elif menu_option==4:\n",
        "    print(\"1.414\")\n",
        "  else:\n",
        "    print(\"Invalid choice\")\n",
        "\n",
        "process_menu_options()"
      ],
      "metadata": {
        "id": "xdtGFXpz_E4U",
        "colab": {
          "base_uri": "https://localhost:8080/"
        },
        "outputId": "f0dc7479-ac4a-4022-c623-19745c673ac0"
      },
      "execution_count": 67,
      "outputs": [
        {
          "output_type": "stream",
          "name": "stdout",
          "text": [
            "Menu options:\n",
            "1.Pi\n",
            "2.Plank’s constant\n",
            "3.E\n",
            "4.Square root of 2\n",
            "Please choose a menu option:5\n",
            "Invalid choice\n"
          ]
        }
      ]
    },
    {
      "cell_type": "markdown",
      "source": [
        "---\n",
        "### Exercise 7 - positive or negative\n",
        "\n",
        "Write a function called **report_pos_or_neg()** which will:  \n",
        "\n",
        "*  ask a user to input a **number**  \n",
        "*  if the `number` is greater than 0, print `number` \"is a positive number\"\n",
        "*  otherwise if it is less than 0 print `number` \"is a negative number  \n",
        "*  otherwise print `number` \"is neither positive or negative\"\n",
        "\n",
        "Test Inputs:  \n",
        "0  \n",
        "50  \n",
        "-50\n",
        "\n",
        "Expected outputs:\n",
        "0 is neither positive or negative  \n",
        "50 is a positive number  \n",
        "-50 is a negative number  "
      ],
      "metadata": {
        "id": "Id5iO-zx_Fwz"
      }
    },
    {
      "cell_type": "code",
      "source": [
        "def report_pos_or_neg():\n",
        "  number=int(input(\"Please enter a number: \"))\n",
        "  if number>0:\n",
        "    print(number,\"is a positive number\")\n",
        "  elif number<0:\n",
        "    print(number,\"Is a negative number\")\n",
        "  else:\n",
        "    print(number, \"is neither positive or negative\")\n",
        "\n",
        "report_pos_or_neg()"
      ],
      "metadata": {
        "id": "rXwhB7qU_GfW",
        "colab": {
          "base_uri": "https://localhost:8080/"
        },
        "outputId": "7abb4016-3f0c-49bb-b7c9-0943053f2d36"
      },
      "execution_count": 47,
      "outputs": [
        {
          "output_type": "stream",
          "name": "stdout",
          "text": [
            "Please enter a number: 0\n",
            "0 is neither positive or negative\n"
          ]
        }
      ]
    },
    {
      "cell_type": "markdown",
      "source": [
        "---\n",
        "### Exercise 8 - traffic light actions  \n",
        "\n",
        "Write a function called **act_on_light()** which will:\n",
        "\n",
        "*  ask the user to enter a traffic light **colour**  \n",
        "*  if the `colour` is \"red\" print the message \"Stop the car\"  \n",
        "*  otherwise if the `colour` is \"amber\" print the message \"Be ready to stop\"  \n",
        "*  otherwise if the `colour` is \"green\" print the message \"Continue forward\"  \n",
        "*  otherwise if the `colour` is \"red and amber\" print the message \"Get ready to go\"  \n",
        "*  otherwise print \"That is not a traffic light colour\"  \n",
        "\n",
        "Test inputs:  \n",
        "red  \n",
        "amber  \n",
        "red and amber  \n",
        "blue    \n",
        "\n",
        "Expected output:  \n",
        "Stop the car  \n",
        "Be ready to stop  \n",
        "Get ready to go  \n",
        "That is not a traffic light colour  "
      ],
      "metadata": {
        "id": "09hW8Uyl_Hb4"
      }
    },
    {
      "cell_type": "code",
      "source": [
        "def act_on_light():\n",
        "  colour=input(\"Please enter a traffic colour: \")\n",
        "  if colour==\"red\":\n",
        "    print(\"Stop the car\")\n",
        "  elif colour==\"yellow\":\n",
        "    print(\"Be ready to stop\")\n",
        "  elif colour==\"green\":\n",
        "    print(\"Continue forward\")\n",
        "  else :\n",
        "    print(\"That is not a traffic light colour\")\n",
        "act_on_light()"
      ],
      "metadata": {
        "id": "oLTVk8_u_IF2",
        "colab": {
          "base_uri": "https://localhost:8080/"
        },
        "outputId": "16ffce48-b215-4536-a98d-198f331009c5"
      },
      "execution_count": 71,
      "outputs": [
        {
          "output_type": "stream",
          "name": "stdout",
          "text": [
            "Please enter a traffic colour: black\n",
            "That is not a traffic light colour\n"
          ]
        }
      ]
    },
    {
      "cell_type": "markdown",
      "source": [
        "---\n",
        "### Exercise 9 - dealing with capitals\n",
        "\n",
        "Write a function called **check_capital()** which will:\n",
        "\n",
        "*  ask the user what is the **capital** city of Scotland  \n",
        "*  If they answer correctly (Edinburgh), tell them that they are correct, Edinburgh is the capital city. If they enter anything else, tell them \"No, Edinburgh is the capital city\"\n",
        "\n",
        "Test Inputs:  \n",
        "London  \n",
        "Edinburgh  \n",
        "edinburgh\n",
        "\n",
        "Expected output:\n",
        "No, Edinburgh is the capital city  \n",
        "You are correct, Edinburgh is the capital city  \n",
        "No, Edinburgh is the capital city  \n",
        "\n",
        "*(think about why it is likely that the output here is incorrect, and change the code to make it work)*"
      ],
      "metadata": {
        "id": "2OAuZiRL_If3"
      }
    },
    {
      "cell_type": "code",
      "source": [
        "def check_capital():\n",
        "  capital=input(\"what is the capital of Scotland? \")\n",
        "  if capital==\"Edinburgh\" or \"edinburgh\":\n",
        "    print(\"You are correct\")\n",
        "  else:\n",
        "    print(\"No, Edinburgh is the capital city\")\n",
        "check_capital()"
      ],
      "metadata": {
        "id": "DSWaaPy2_J0F",
        "colab": {
          "base_uri": "https://localhost:8080/"
        },
        "outputId": "b740c719-d7df-41f2-961e-efd9cad4497e"
      },
      "execution_count": 80,
      "outputs": [
        {
          "output_type": "stream",
          "name": "stdout",
          "text": [
            "what is the capital of Scotland? edinburgh\n",
            "You are correct\n"
          ]
        }
      ]
    },
    {
      "cell_type": "markdown",
      "source": [
        "---\n",
        "### Exercise 10 - calculator\n",
        "\n",
        "Write a function called **calculate()** which will:\n",
        "\n",
        "*  asks the user for 2 numbers (**num1** and **num2**) and an **operator** (+, -, /, *)\n",
        "\n",
        "Use *if* statements to allow the user to perform calculations on these 2 numbers and provide the answer in a print statement.\n",
        "\n",
        "Test Inputs:  \n",
        "num1 = 2, num2 = 3, operator = +  \n",
        "num1 = 2, num2 = 3, operator = -  \n",
        "num1 = 2, num2 = 3, operator = *  \n",
        "num1 = 2, num2 = 3, operator = /  \n",
        "\n",
        "Expected output:  \n",
        "Your answer is 5  \n",
        "Your answer is -1  \n",
        "Your answer is 6  \n",
        "Your answer is 0.6666666666  "
      ],
      "metadata": {
        "id": "6rM3WXMW_LJL"
      }
    },
    {
      "cell_type": "code",
      "source": [
        "def calculate():\n",
        "  num1= int(input(\"please enter a number: \"))\n",
        "  num2= int(input(\"please enter another number: \"))\n",
        "  operator= input(\"Enter an operator (+,-,/,*):\")\n",
        "  if operator==\"+\":\n",
        "    print(num1+num2)\n",
        "  elif operator==\"-\":\n",
        "    print(num1-num2)\n",
        "  elif operator== \"*\":\n",
        "    print(num1*num2)\n",
        "  elif operator== \"/\":\n",
        "    print(num1/num2)\n",
        "\n",
        "calculate()\n"
      ],
      "metadata": {
        "id": "8ElbRAlw_LoU",
        "colab": {
          "base_uri": "https://localhost:8080/"
        },
        "outputId": "71116380-9b6d-4819-8f0f-cff488ea6b02"
      },
      "execution_count": 85,
      "outputs": [
        {
          "output_type": "stream",
          "name": "stdout",
          "text": [
            "please enter a number: 2\n",
            "please enter another number: 3\n",
            "Enter an operator (+,-,/,*):-\n",
            "-1\n"
          ]
        }
      ]
    }
  ]
}