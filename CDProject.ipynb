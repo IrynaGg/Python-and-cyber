{
  "nbformat": 4,
  "nbformat_minor": 0,
  "metadata": {
    "colab": {
      "provenance": [],
      "include_colab_link": true
    },
    "kernelspec": {
      "name": "python3",
      "display_name": "Python 3"
    },
    "language_info": {
      "name": "python"
    }
  },
  "cells": [
    {
      "cell_type": "markdown",
      "metadata": {
        "id": "view-in-github",
        "colab_type": "text"
      },
      "source": [
        "<a href=\"https://colab.research.google.com/github/IrynaGg/Python-and-cyber/blob/main/CDProject.ipynb\" target=\"_parent\"><img src=\"https://colab.research.google.com/assets/colab-badge.svg\" alt=\"Open In Colab\"/></a>"
      ]
    },
    {
      "cell_type": "markdown",
      "source": [
        " As a part of the final project we were creating a solution for when people need to relocate to a new area and need to find schools within a reasonable distance of where they would live. This might determine their choice of location.\n",
        "\n",
        "\n"
      ],
      "metadata": {
        "id": "vr3OJIZG_Dm_"
      }
    },
    {
      "cell_type": "code",
      "source": [
        "#aditional functions for Googgle maps API\n"
      ],
      "metadata": {
        "id": "0TJphfI-VZae"
      },
      "execution_count": null,
      "outputs": []
    },
    {
      "cell_type": "code",
      "execution_count": 19,
      "metadata": {
        "id": "cvIEaLPhRGLX"
      },
      "outputs": [],
      "source": [
        "import os\n",
        "from google.colab import output\n",
        "\n",
        "google_key = input(\"Enter the google API key: \")\n",
        "aws_key = input(\"enter the AWS key: \")\n",
        "os.environ['GOOGLE_API_KEY'] = google_key\n",
        "os.environ['AWS_API_KEY'] = aws_key\n",
        "\n",
        "output.clear()\n",
        "\n"
      ]
    },
    {
      "cell_type": "markdown",
      "source": [
        "AS a user\n",
        "WHEN I want to find the nearest schools to a given location\n",
        "THEN I will be able to run a function in a Google Colab that will ask Google maps to send a list of nearby schools\n",
        "AND I will be shown a list of schools in that area\n",
        "AND this information can also be sent to a serverless function on AWS and saved in a schools file on S3"
      ],
      "metadata": {
        "id": "eRwaBREm_aHe"
      }
    },
    {
      "cell_type": "code",
      "source": [
        "!pip install googlemaps\n",
        "import googlemaps\n",
        "\n",
        "gmaps = googlemaps.Client(os.environ.get('GOOGLE_API_KEY'))\n",
        "\n",
        "def get_schools(lat,lon,rad):\n",
        "  school_list=[]\n",
        "  try:\n",
        "    places_result  = gmaps.places_nearby(location= f\"{lat},{lon}\", radius = rad, type = \"school\")\n",
        "    for place in places_result['results']:\n",
        "      school_name= place['name']\n",
        "      school_location_lat= place['geometry']['location']['lat']\n",
        "      school_location_lng= place['geometry']['location']['lng']\n",
        "      # print(f\"{school_name}, {school_location_lat},{school_location_lng}\")\n",
        "      school_list.append([school_name, school_location_lat,school_location_lng])\n",
        "    return school_list\n",
        "  except Exception as e:\n",
        "    print(\"Error: \" + str(e))\n",
        "result= get_schools(51.5072, 0.1276,5000)\n",
        "print(result)\n",
        "[['Bannockburn Primary School & Nursery', 51.4869172, 0.1015561], ['St Margaret Clitherow Primary School', 51.50103289999999, 0.1132992], ['Parkway Primary School', 51.49280040000001, 0.1341053], [\"St Michael's East Wickham C of E Primary School\", 51.46934, 0.119751], ['Jo Richardson Community School', 51.53407139999999, 0.1262779], ['Woolwich Polytechnic School for Boys', 51.5037284, 0.1081882], ['Eastbury Community School', 51.5415693, 0.09116149999999999], ['King Henry School', 51.47343300000001, 0.166117], ['Sydney Russell School', 51.5486205, 0.1331252], ['Langdon Academy', 51.53266139999999, 0.0684394], ['The Garard Academy Bexley Primary Section', 51.49388949999999, 0.1392432], ['Chestnut Tree Day Nursery', 51.4835246, 0.1472878], [\"St Paul's Academy\", 51.49267829999999, 0.1044459], ['Happi Feet Nursery', 51.4845967, 0.1547493], ['BG Homework Club', 51.5099169, 0.1171594], ['A B C Pre School', 51.5319735, 0.1467639], ['Foxhouse', 51.48538139999999, 0.1575613], ['Pulse & Water Learning', 51.4936864, 0.1102897], ['Bishop John Robinson Primary School', 51.5082391, 0.1184551], ['Kumon Maths & English', 51.50782019999999, 0.1086709]]\n"
      ],
      "metadata": {
        "colab": {
          "base_uri": "https://localhost:8080/"
        },
        "id": "9PhprQYOVatk",
        "outputId": "e5f2243e-6a5e-4cd0-ca96-9551286377c2"
      },
      "execution_count": 14,
      "outputs": [
        {
          "output_type": "stream",
          "name": "stdout",
          "text": [
            "Requirement already satisfied: googlemaps in /usr/local/lib/python3.10/dist-packages (4.10.0)\n",
            "Requirement already satisfied: requests<3.0,>=2.20.0 in /usr/local/lib/python3.10/dist-packages (from googlemaps) (2.31.0)\n",
            "Requirement already satisfied: charset-normalizer<4,>=2 in /usr/local/lib/python3.10/dist-packages (from requests<3.0,>=2.20.0->googlemaps) (3.3.2)\n",
            "Requirement already satisfied: idna<4,>=2.5 in /usr/local/lib/python3.10/dist-packages (from requests<3.0,>=2.20.0->googlemaps) (3.6)\n",
            "Requirement already satisfied: urllib3<3,>=1.21.1 in /usr/local/lib/python3.10/dist-packages (from requests<3.0,>=2.20.0->googlemaps) (2.0.7)\n",
            "Requirement already satisfied: certifi>=2017.4.17 in /usr/local/lib/python3.10/dist-packages (from requests<3.0,>=2.20.0->googlemaps) (2024.2.2)\n",
            "[['Bannockburn Primary School & Nursery', 51.4869172, 0.1015561], ['St Margaret Clitherow Primary School', 51.50103289999999, 0.1132992], ['Parkway Primary School', 51.49280040000001, 0.1341053], [\"St Michael's East Wickham C of E Primary School\", 51.46934, 0.119751], ['Jo Richardson Community School', 51.53407139999999, 0.1262779], ['Woolwich Polytechnic School for Boys', 51.5037284, 0.1081882], ['Eastbury Community School', 51.5415693, 0.09116149999999999], ['Sydney Russell School', 51.5486205, 0.1331252], ['Langdon Academy', 51.53266139999999, 0.0684394], ['The Garard Academy Bexley Primary Section', 51.49388949999999, 0.1392432], ['Chestnut Tree Day Nursery', 51.4835246, 0.1472878], [\"St Paul's Academy\", 51.49267829999999, 0.1044459], ['Happi Feet Nursery', 51.4845967, 0.1547493], ['BG Homework Club', 51.5099169, 0.1171594], ['A B C Pre School', 51.5319735, 0.1467639], ['Foxhouse', 51.48538139999999, 0.1575613], ['Pulse & Water Learning', 51.4936864, 0.1102897], ['Bishop John Robinson Primary School', 51.5082391, 0.1184551], ['Kumon Maths & English', 51.50782019999999, 0.1086709], ['Horizons Academy Bexley', 51.4941176, 0.1233113]]\n"
          ]
        },
        {
          "output_type": "execute_result",
          "data": {
            "text/plain": [
              "[['Bannockburn Primary School & Nursery', 51.4869172, 0.1015561],\n",
              " ['St Margaret Clitherow Primary School', 51.50103289999999, 0.1132992],\n",
              " ['Parkway Primary School', 51.49280040000001, 0.1341053],\n",
              " [\"St Michael's East Wickham C of E Primary School\", 51.46934, 0.119751],\n",
              " ['Jo Richardson Community School', 51.53407139999999, 0.1262779],\n",
              " ['Woolwich Polytechnic School for Boys', 51.5037284, 0.1081882],\n",
              " ['Eastbury Community School', 51.5415693, 0.09116149999999999],\n",
              " ['King Henry School', 51.47343300000001, 0.166117],\n",
              " ['Sydney Russell School', 51.5486205, 0.1331252],\n",
              " ['Langdon Academy', 51.53266139999999, 0.0684394],\n",
              " ['The Garard Academy Bexley Primary Section', 51.49388949999999, 0.1392432],\n",
              " ['Chestnut Tree Day Nursery', 51.4835246, 0.1472878],\n",
              " [\"St Paul's Academy\", 51.49267829999999, 0.1044459],\n",
              " ['Happi Feet Nursery', 51.4845967, 0.1547493],\n",
              " ['BG Homework Club', 51.5099169, 0.1171594],\n",
              " ['A B C Pre School', 51.5319735, 0.1467639],\n",
              " ['Foxhouse', 51.48538139999999, 0.1575613],\n",
              " ['Pulse & Water Learning', 51.4936864, 0.1102897],\n",
              " ['Bishop John Robinson Primary School', 51.5082391, 0.1184551],\n",
              " ['Kumon Maths & English', 51.50782019999999, 0.1086709]]"
            ]
          },
          "metadata": {},
          "execution_count": 14
        }
      ]
    },
    {
      "cell_type": "code",
      "source": [
        "#Function that will save the list as txt.file ans send it to the bucket (aws)"
      ],
      "metadata": {
        "id": "1QmDJshRVsjI"
      },
      "execution_count": null,
      "outputs": []
    },
    {
      "cell_type": "code",
      "source": [
        "import requests\n",
        "import json\n",
        "\n",
        "\n",
        "\n",
        "def send_post_request(array):\n",
        "  try:\n",
        "      url = \"https://75p0zb3rn2.execute-api.eu-north-1.amazonaws.com/default/mypythonproject\"\n",
        "\n",
        "      payload = json.dumps({\n",
        "        \"data\": array\n",
        "      })\n",
        "\n",
        "      headers = {\n",
        "        'Content-Type': 'application/json',\n",
        "        'X-Api-Key': os.environ.get('AWS_API_KEY')\n",
        "      }\n",
        "\n",
        "      response = requests.request(\"POST\", url, headers=headers, data=payload)\n",
        "\n",
        "      print(response.text)\n",
        "  except Exception as e:\n",
        "    return \"Error: \" + str(e)\n",
        "\n",
        "\n",
        "result = get_schools(51.5072, 0.1276, 100000)\n",
        "send_post_request(result)"
      ],
      "metadata": {
        "colab": {
          "base_uri": "https://localhost:8080/"
        },
        "id": "2WdGYoIYHo2E",
        "outputId": "def138f9-18c9-491c-a409-d9dd6812c815"
      },
      "execution_count": 20,
      "outputs": [
        {
          "output_type": "stream",
          "name": "stdout",
          "text": [
            "{\"message\": \"These schools are already in a file\", \"data\": []}\n"
          ]
        }
      ]
    },
    {
      "cell_type": "code",
      "source": [
        "#function that will send the list to the bucket"
      ],
      "metadata": {
        "id": "widgRi_7WXxL"
      },
      "execution_count": null,
      "outputs": []
    },
    {
      "cell_type": "code",
      "source": [
        "import requests\n",
        "import json\n",
        "\n",
        "url = \"https://75p0zb3rn2.execute-api.eu-north-1.amazonaws.com/default/mypythonproject\"\n",
        "\n",
        "def post_requests():\n",
        "  payload = json.dumps({\n",
        "    \"data\": result,\n",
        "  })\n",
        "  headers = {\n",
        "    'Content-Type': 'application/json',\n",
        "    'x-api-key': os.environ.get('AWS_API_KEY')\n",
        "  }\n",
        "\n",
        "  response = requests.request(\"POST\", url, headers=headers, data=payload)\n",
        "\n",
        "  print(response.text)\n",
        "\n",
        "post_requests()\n"
      ],
      "metadata": {
        "id": "8tQNDdT6lg1B",
        "colab": {
          "base_uri": "https://localhost:8080/"
        },
        "outputId": "2d38ce13-7b58-4661-d8fb-90d9e948e8f8"
      },
      "execution_count": 22,
      "outputs": [
        {
          "output_type": "stream",
          "name": "stdout",
          "text": [
            "{\"message\": \"These schools are already in a file\", \"data\": []}\n"
          ]
        }
      ]
    },
    {
      "cell_type": "markdown",
      "source": [
        "AS a user\n",
        "WHEN I want to see all the schools in the file on AWS S3\n",
        "THEN I will be able to run a function in a Google Colab that will send a request to get the full list,\n",
        "AND I will see the list printed in my output\n"
      ],
      "metadata": {
        "id": "sOXmh8j5_sk6"
      }
    },
    {
      "cell_type": "code",
      "source": [
        "import requests\n",
        "import json\n",
        "\n",
        "url = \"https://75p0zb3rn2.execute-api.eu-north-1.amazonaws.com/default/mypythonproject\"\n",
        "\n",
        "def get_requests():\n",
        "  payload = json.dumps({\n",
        "    \"data\":  []\n",
        "  })\n",
        "  headers = {\n",
        "    'Content-Type': 'application/json',\n",
        "    'x-api-key': os.environ.get('AWS_API_KEY')\n",
        "  }\n",
        "\n",
        "  response = requests.request(\"GET\", url, headers=headers, data=payload)\n",
        "\n",
        "  print(response.text)\n",
        "\n",
        "get_requests()\n"
      ],
      "metadata": {
        "colab": {
          "base_uri": "https://localhost:8080/"
        },
        "id": "zDkYVuHRM6km",
        "outputId": "18371b5f-b063-43be-f2b6-3ff539c5eb0b"
      },
      "execution_count": 21,
      "outputs": [
        {
          "output_type": "stream",
          "name": "stdout",
          "text": [
            "{\"message\": \"The data has been found\", \"data\": [[\"Name\", \"Latitude\", \"Longitude\"], [\"Bannockburn Primary School\", \"51.4869172\", \"0.1015561\"], [\"St Margaret Clitherow Primary School\", \"51.50103289999999\", \"0.1132992\"], [\"Jesmond Park\", \"54.9939443\", \"-1.588097\"], [\"Haling Manor High School\", \"51.3533553\", \"-0.1092771\"], [\"Lambeth School of Art\", \"51.4871005\", \"-0.1185023\"], [\"University of Roehampton London\", \"51.4563401\", \"-0.2446496\"], [\"Nuffield Health City Fitness & Wellbeing Gym\", \"51.5099867\", \"-0.09127799999999998\"], [\"IOE, UCL's Faculty of Education and Society\", \"51.5229371\", \"-0.1279417\"], [\"Newham Sixth Form College\", \"51.5224054\", \"0.03081829999999999\"], [\"Richmond upon Thames College\", \"51.4517137\", \"-0.3425717\"], [\"Whitgift School\", \"51.36002\", \"-0.1022125\"], [\"City of Westminster College, Paddington Green Campus\", \"51.52104159999999\", \"-0.1746649\"], [\"South Hampstead High School\", \"51.5461891\", \"-0.1769548\"], [\"Eltham College\", \"51.43804009999999\", \"0.038777\"], [\"Kingston Grammar School\", \"51.41025389999999\", \"-0.2964765\"], [\"Harrow School\", \"51.5725237\", \"-0.3334223000000001\"], [\"St Dominic's Sixth Form College\", \"51.5663649\", \"-0.3415743000000001\"], [\"Queen Mother Sports Centre\", \"51.493354\", \"-0.1405451\"], [\"Paddington Academy\", \"51.52524969999999\", \"-0.1937846\"], [\"Highgate School\", \"51.5721393\", \"-0.1492358000000001\"], [\"London Aquatics Centre\", \"51.54018749999999\", \"-0.0105507\"], [\"The Circle Gym and Spa\", \"51.5015677\", \"-0.07457449999999999\"], [\"Notre Dame Roman Catholic Girls' School\", \"51.4971483\", \"-0.1061253\"]]}\n"
          ]
        }
      ]
    },
    {
      "cell_type": "markdown",
      "source": [
        "ACCEPTANCE CRITERIA - USER STORIES\n",
        "\n",
        "WHEN I send latitude 55.816555 and longitude -4.309890 and a radius of 4km\n",
        "THEN the following list is added to the file:\n"
      ],
      "metadata": {
        "id": "qb3wDUEL_7ZR"
      }
    },
    {
      "cell_type": "code",
      "source": [
        "!pip install googlemaps\n",
        "import googlemaps\n",
        "\n",
        "gmaps = googlemaps.Client(os.environ.get('GOOGLE_API_KEY'))\n",
        "\n",
        "def get_schools(lat,lon,rad):\n",
        "  school_list=[]\n",
        "  try:\n",
        "    places_result  = gmaps.places_nearby(location= f\"{lat},{lon}\", radius = rad, type = \"school\")\n",
        "    for place in places_result['results']:\n",
        "      school_name= place['name']\n",
        "      school_location_lat= place['geometry']['location']['lat']\n",
        "      school_location_lng= place['geometry']['location']['lng']\n",
        "      print(f\"{school_name}, {school_location_lat},{school_location_lng}\")\n",
        "      school_list.append([school_name, school_location_lat,school_location_lng])\n",
        "    return school_list\n",
        "  except Exception as e:\n",
        "    print(\"Error: \" + str(e))\n",
        "result= get_schools(55.816555, -4.309890,4000)\n"
      ],
      "metadata": {
        "colab": {
          "base_uri": "https://localhost:8080/"
        },
        "id": "IMQiUy0f_9GG",
        "outputId": "f0b4cd91-50b6-41ac-81b9-78d549f7ade2"
      },
      "execution_count": null,
      "outputs": [
        {
          "output_type": "stream",
          "name": "stdout",
          "text": [
            "Requirement already satisfied: googlemaps in /usr/local/lib/python3.10/dist-packages (4.10.0)\n",
            "Requirement already satisfied: requests<3.0,>=2.20.0 in /usr/local/lib/python3.10/dist-packages (from googlemaps) (2.31.0)\n",
            "Requirement already satisfied: charset-normalizer<4,>=2 in /usr/local/lib/python3.10/dist-packages (from requests<3.0,>=2.20.0->googlemaps) (3.3.2)\n",
            "Requirement already satisfied: idna<4,>=2.5 in /usr/local/lib/python3.10/dist-packages (from requests<3.0,>=2.20.0->googlemaps) (3.6)\n",
            "Requirement already satisfied: urllib3<3,>=1.21.1 in /usr/local/lib/python3.10/dist-packages (from requests<3.0,>=2.20.0->googlemaps) (2.0.7)\n",
            "Requirement already satisfied: certifi>=2017.4.17 in /usr/local/lib/python3.10/dist-packages (from requests<3.0,>=2.20.0->googlemaps) (2024.2.2)\n",
            "Hutchesons' Grammar School, 55.83644289999999,-4.282187\n",
            "Eastwood High School, 55.78701009999999,-4.327643299999999\n",
            "Glasgow Club Bellahouston, 55.8459204,-4.3239934\n",
            "Bellahouston Academy, 55.8481055,-4.3005388\n",
            "Pro-Soccer, 55.7979717,-4.3199578\n",
            "St Vincent’s Primary School, 55.8102127,-4.3248058\n",
            "Cleeves Primary School, 55.81444250000001,-4.355818899999999\n",
            "Thornliebank Primary School, 55.8093009,-4.3143177\n",
            "Our Lady of the Mission Primary School, 55.8017274,-4.307100999999999\n",
            "Hillpark Autism Unit, 55.8155973,-4.297950300000001\n",
            "Fotheringay Centre, 55.8371502,-4.2833944\n",
            "Animal Man Parties, 55.8158912,-4.295114700000001\n",
            "Woodland Outdoor Kindergartens, 55.8179202,-4.301552699999999\n",
            "Kumon Maths & English, 55.80408809999999,-4.2935565\n",
            "Carmichael Nursery School, 55.8245123,-4.272025\n",
            "Wendy King, 55.8293055,-4.2910509\n",
            "Burnbrae Children's Centre, 55.81449809999999,-4.3556976\n",
            "Zippytotz, 55.8099591,-4.300966\n",
            "Tinto Primary School, 55.8175789,-4.292833600000001\n",
            "St Vincent's Autism Unit Co St Vincent's Primary, 55.8099194,-4.323872199999999\n"
          ]
        }
      ]
    },
    {
      "cell_type": "markdown",
      "source": [
        "WHEN I have entered a latitude of 87.543255 and longitude of 0, and a radius of 10km\n",
        "THEN I will receive an empty list and nothing will be saved\n"
      ],
      "metadata": {
        "id": "gTvu3WJTRwR6"
      }
    },
    {
      "cell_type": "code",
      "source": [
        "!pip install googlemaps\n",
        "import googlemaps\n",
        "\n",
        "gmaps = googlemaps.Client(os.environ.get('GOOGLE_API_KEY'))\n",
        "\n",
        "def get_schools(lat,lon,rad):\n",
        "  school_list=[]\n",
        "  try:\n",
        "    places_result  = gmaps.places_nearby(location= f\"{lat},{lon}\", radius = rad, type = \"school\")\n",
        "    for place in places_result['results']:\n",
        "      school_name= place['name']\n",
        "      school_location_lat= place['geometry']['location']['lat']\n",
        "      school_location_lng= place['geometry']['location']['lng']\n",
        "      print(f\"{school_name}, {school_location_lat},{school_location_lng}\")\n",
        "      school_list.append([school_name, school_location_lat,school_location_lng])\n",
        "    return school_list\n",
        "  except Exception as e:\n",
        "    print(\"Error: \" + str(e))\n",
        "result= get_schools(87.543255, 0,10000)\n"
      ],
      "metadata": {
        "colab": {
          "base_uri": "https://localhost:8080/"
        },
        "id": "jaj2GX57H-m6",
        "outputId": "5108c3cc-3312-4a17-f4bf-76da32517e99"
      },
      "execution_count": null,
      "outputs": [
        {
          "output_type": "stream",
          "name": "stdout",
          "text": [
            "Requirement already satisfied: googlemaps in /usr/local/lib/python3.10/dist-packages (4.10.0)\n",
            "Requirement already satisfied: requests<3.0,>=2.20.0 in /usr/local/lib/python3.10/dist-packages (from googlemaps) (2.31.0)\n",
            "Requirement already satisfied: charset-normalizer<4,>=2 in /usr/local/lib/python3.10/dist-packages (from requests<3.0,>=2.20.0->googlemaps) (3.3.2)\n",
            "Requirement already satisfied: idna<4,>=2.5 in /usr/local/lib/python3.10/dist-packages (from requests<3.0,>=2.20.0->googlemaps) (3.6)\n",
            "Requirement already satisfied: urllib3<3,>=1.21.1 in /usr/local/lib/python3.10/dist-packages (from requests<3.0,>=2.20.0->googlemaps) (2.0.7)\n",
            "Requirement already satisfied: certifi>=2017.4.17 in /usr/local/lib/python3.10/dist-packages (from requests<3.0,>=2.20.0->googlemaps) (2024.2.2)\n"
          ]
        }
      ]
    },
    {
      "cell_type": "markdown",
      "source": [
        "WHEN I have entered a latitude of 99.999995 and longitude of 0, and a radius of 5km\n",
        "THEN I will receive and error message telling me that the latitude is invalid (too big)\n"
      ],
      "metadata": {
        "id": "aWn1mS3SRrpy"
      }
    },
    {
      "cell_type": "code",
      "source": [
        "!pip install googlemaps\n",
        "import googlemaps\n",
        "\n",
        "gmaps = googlemaps.Client(os.environ.get('GOOGLE_API_KEY'))\n",
        "\n",
        "def get_schools(lat,lon,rad):\n",
        "  school_list=[]\n",
        "  try:\n",
        "    places_result  = gmaps.places_nearby(location= f\"{lat},{lon}\", radius = rad, type = \"school\")\n",
        "    for place in places_result['results']:\n",
        "      school_name= place['name']\n",
        "      school_location_lat= place['geometry']['location']['lat']\n",
        "      school_location_lng= place['geometry']['location']['lng']\n",
        "      print(f\"{school_name}, {school_location_lat},{school_location_lng}\")\n",
        "      school_list.append([school_name, school_location_lat,school_location_lng])\n",
        "    return school_list\n",
        "  except googlemaps.exceptions.ApiError as e:\n",
        "    if e.status==\"INVALID_REQUEST\":\n",
        "      print(\"coordinates are invalid\")\n",
        "  except Exception as e:\n",
        "    print(\"Error: \" + str(e))\n",
        "result= get_schools(99.999995, 0,50000)\n"
      ],
      "metadata": {
        "colab": {
          "base_uri": "https://localhost:8080/"
        },
        "id": "nFxJ81-pIMaT",
        "outputId": "a2481aa6-4fa0-4c3f-e376-033aefc627c5"
      },
      "execution_count": null,
      "outputs": [
        {
          "output_type": "stream",
          "name": "stdout",
          "text": [
            "Requirement already satisfied: googlemaps in /usr/local/lib/python3.10/dist-packages (4.10.0)\n",
            "Requirement already satisfied: requests<3.0,>=2.20.0 in /usr/local/lib/python3.10/dist-packages (from googlemaps) (2.31.0)\n",
            "Requirement already satisfied: charset-normalizer<4,>=2 in /usr/local/lib/python3.10/dist-packages (from requests<3.0,>=2.20.0->googlemaps) (3.3.2)\n",
            "Requirement already satisfied: idna<4,>=2.5 in /usr/local/lib/python3.10/dist-packages (from requests<3.0,>=2.20.0->googlemaps) (3.6)\n",
            "Requirement already satisfied: urllib3<3,>=1.21.1 in /usr/local/lib/python3.10/dist-packages (from requests<3.0,>=2.20.0->googlemaps) (2.0.7)\n",
            "Requirement already satisfied: certifi>=2017.4.17 in /usr/local/lib/python3.10/dist-packages (from requests<3.0,>=2.20.0->googlemaps) (2024.2.2)\n",
            "coordinates are invalid\n"
          ]
        }
      ]
    },
    {
      "cell_type": "markdown",
      "source": [
        "WHEN the request is sent to get the contents of the schools file on AWS S3\n",
        "THEN a full list, matching the file on S3, is received\n"
      ],
      "metadata": {
        "id": "JhEGdtiUR7eR"
      }
    },
    {
      "cell_type": "markdown",
      "source": [
        "Testing functions.py"
      ],
      "metadata": {
        "id": "FzXazqgfzszZ"
      }
    },
    {
      "cell_type": "code",
      "source": [
        "import os\n",
        "import boto3\n",
        "import json\n",
        "import csv\n",
        "import botocore\n",
        "\n",
        "def add_school_data_to_bucket(client, filename, filedata):\n",
        "    s3_client = boto3.client('s3')\n",
        "    s3 = boto3.resource('s3')\n",
        "    bucket = s3.Bucket(os.environ.get(\"BUCKET_NAME\"))\n",
        "    try:\n",
        "        obj = s3_client.get_object(Bucket=os.environ.get(\"BUCKET_NAME\"), Key=filename)\n",
        "        data = obj['Body'].read().decode('utf-8').splitlines()\n",
        "        records = csv.reader(data)\n",
        "        names_array = []\n",
        "        with open('/tmp/schools_list.csv', 'w', newline='') as f:\n",
        "            for row in records:\n",
        "                names_array.append(row[0])\n",
        "                writer = csv.writer(f)\n",
        "                writer.writerow(row)\n",
        "        new_data_rows = []\n",
        "        with open('/tmp/schools_list.csv', 'a', newline='') as f:\n",
        "            for i in filedata:\n",
        "                if i[0] not in names_array:\n",
        "                    new_data_rows.append(i)\n",
        "                    writer = csv.writer(f)\n",
        "                    writer.writerow(i)\n",
        "        if len(new_data_rows) == 0:\n",
        "            return \"These schools are already in a file\", []\n",
        "        else:\n",
        "            bucket.upload_file('/tmp/schools_list.csv', filename)\n",
        "            return \"New data been successfully added\", new_data_rows\n",
        "    except botocore.exceptions.ClientError as e:\n",
        "        if e.response[\"Error\"][\"Code\"] == \"NoSuchKey\":\n",
        "            headers = [\"Name\", 'Latitude', 'Longitude']\n",
        "            with open('/tmp/schools_list.csv', 'w', newline='') as f:\n",
        "                writer = csv.writer(f)\n",
        "                writer.writerow(headers)\n",
        "                for row in filedata:\n",
        "                    writer.writerow(row)\n",
        "            bucket.upload_file('/tmp/schools_list.csv', filename)\n",
        "            return \"New file been successfully created\", filedata\n",
        "        else:\n",
        "            return e.response[\"Error\"][\"Code\"], []\n",
        "\n",
        "def show_schools_data_in_bucket(client, filename):\n",
        "    s3_client = boto3.client('s3')\n",
        "    s3 = boto3.resource('s3')\n",
        "    bucket = s3.Bucket(os.environ.get(\"BUCKET_NAME\"))\n",
        "    try:\n",
        "        obj = s3_client.get_object(Bucket=os.environ.get(\"BUCKET_NAME\"), Key=filename)\n",
        "        data = obj['Body'].read().decode('utf-8').splitlines()\n",
        "        records = csv.reader(data)\n",
        "        data_array =[]\n",
        "        for row in records:\n",
        "                         data_array.append(row)\n",
        "        print(data_array)\n",
        "        return \"The data has been found\", data_array\n",
        "    except botocore.exceptions.ClientError as e:\n",
        "        if e.response[\"Error\"][\"Code\"] == \"NoSuchKey\":\n",
        "            return \"There is no such file\", []\n",
        "        else:\n",
        "            return e.response[\"Error\"][\"Code\"], []\n",
        "    except:\n",
        "        return \"There was an error\", []\n",
        "\n"
      ],
      "metadata": {
        "id": "v0NmETkGz0Pt"
      },
      "execution_count": null,
      "outputs": []
    },
    {
      "cell_type": "code",
      "source": [
        "import boto3\n",
        "import json\n",
        "from functions import add_school_data_to_bucket, show_schools_data_in_bucket\n",
        "\n",
        "\n",
        "def lambda_handler(event, context):\n",
        "    global message, return_data, statuscode\n",
        "    filename = \"schools_list.csv\"\n",
        "    client = boto3.client('s3')\n",
        "    if event[\"httpMethod\"] == \"POST\":\n",
        "        if \"body\" in event.keys():\n",
        "            request = event[\"body\"]\n",
        "            if type(request) is not dict:\n",
        "                request = json.loads(request)\n",
        "            if request is not None and \"data\" in request.keys():\n",
        "                data = request[\"data\"]\n",
        "                if len(data) == 0:\n",
        "                    message, return_data = \"Please enter a valid data\", []\n",
        "                    statuscode = 404\n",
        "                else:\n",
        "                    message, return_data = add_school_data_to_bucket(client, filename, data)\n",
        "                    statuscode = 200\n",
        "            else:\n",
        "                message, return_data = \"Error in the POST request occured\", []\n",
        "                statuscode = 404\n",
        "    elif event[\"httpMethod\"] == \"GET\":\n",
        "        message, return_data = show_schools_data_in_bucket(client, filename)\n",
        "        statuscode = 200\n",
        "    else:\n",
        "        message, return_data = \"Error occured\", []\n",
        "        statuscode = 404\n",
        "    return {'statusCode': statuscode,\n",
        "            'headers': {'Content-Type': 'application/json',\n",
        "                        'Access-Control-Allow-Headers': 'Content-Type,X-Api-Key',\n",
        "                        'Access-Control-Allow-Methods': 'POST',\n",
        "                        'Access-Control-Allow-Origin': '*'},\n",
        "            'body': json.dumps({\"message\": message, \"data\": return_data})\n",
        "            }\n"
      ],
      "metadata": {
        "id": "COYMBXPIR6X0"
      },
      "execution_count": null,
      "outputs": []
    },
    {
      "cell_type": "code",
      "source": [
        "event= {\n",
        "    \"httpMethod\": \"POST\",\n",
        "    \"body\": {\n",
        "    \"data\": [\n",
        "        [\n",
        "            \"Bannockburn Primary School & Nursery\",\n",
        "            51.4869172,\n",
        "            0.1015561\n",
        "        ],\n",
        "        [\n",
        "            \"St Margaret Clitherow Primary School\",\n",
        "            51.50103289999999,\n",
        "            0.1132992\n",
        "        ]\n",
        "    ]\n",
        "}\n",
        "}"
      ],
      "metadata": {
        "id": "hMbmalEDzva8"
      },
      "execution_count": null,
      "outputs": []
    }
  ]
}