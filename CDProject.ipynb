{
  "nbformat": 4,
  "nbformat_minor": 0,
  "metadata": {
    "colab": {
      "provenance": [],
      "include_colab_link": true
    },
    "kernelspec": {
      "name": "python3",
      "display_name": "Python 3"
    },
    "language_info": {
      "name": "python"
    }
  },
  "cells": [
    {
      "cell_type": "markdown",
      "metadata": {
        "id": "view-in-github",
        "colab_type": "text"
      },
      "source": [
        "<a href=\"https://colab.research.google.com/github/IrynaGg/Python-and-cyber/blob/main/CDProject.ipynb\" target=\"_parent\"><img src=\"https://colab.research.google.com/assets/colab-badge.svg\" alt=\"Open In Colab\"/></a>"
      ]
    },
    {
      "cell_type": "markdown",
      "source": [
        " As a part of the final project we were creating a solution for when people need to relocate to a new area and need to find schools within a reasonable distance of where they would live. This might determine their choice of location.\n",
        "\n",
        "\n"
      ],
      "metadata": {
        "id": "vr3OJIZG_Dm_"
      }
    },
    {
      "cell_type": "code",
      "source": [
        "#aditional functions for Googgle maps API\n"
      ],
      "metadata": {
        "id": "0TJphfI-VZae"
      },
      "execution_count": null,
      "outputs": []
    },
    {
      "cell_type": "code",
      "execution_count": 1,
      "metadata": {
        "id": "cvIEaLPhRGLX"
      },
      "outputs": [],
      "source": [
        "import os\n",
        "from google.colab import output\n",
        "\n",
        "google_key = input(\"Enter the google API key: \")\n",
        "aws_key = input(\"enter the AWS key: \")\n",
        "os.environ['GOOGLE_API_KEY'] = google_key\n",
        "os.environ['AWS_API_KEY'] = aws_key\n",
        "\n",
        "output.clear()\n",
        "\n"
      ]
    },
    {
      "cell_type": "markdown",
      "source": [
        "AS a user\n",
        "WHEN I want to find the nearest schools to a given location\n",
        "THEN I will be able to run a function in a Google Colab that will ask Google maps to send a list of nearby schools\n",
        "AND I will be shown a list of schools in that area\n",
        "AND this information can also be sent to a serverless function on AWS and saved in a schools file on S3"
      ],
      "metadata": {
        "id": "eRwaBREm_aHe"
      }
    },
    {
      "cell_type": "code",
      "source": [
        "!pip install googlemaps\n",
        "import googlemaps\n",
        "\n",
        "gmaps = googlemaps.Client(os.environ.get('GOOGLE_API_KEY'))\n",
        "\n",
        "def get_schools(lat,lon,rad):\n",
        "  school_list=[]\n",
        "  try:\n",
        "    places_result  = gmaps.places_nearby(location= f\"{lat},{lon}\", radius = rad, type = \"school\")\n",
        "    for place in places_result['results']:\n",
        "      school_name= place['name']\n",
        "      school_location_lat= place['geometry']['location']['lat']\n",
        "      school_location_lng= place['geometry']['location']['lng']\n",
        "      # print(f\"{school_name}, {school_location_lat},{school_location_lng}\")\n",
        "      school_list.append([school_name, school_location_lat,school_location_lng])\n",
        "    return school_list\n",
        "  except Exception as e:\n",
        "    print(\"Error: \" + str(e))\n",
        "result= get_schools(51.5072, 0.1276,5000)\n",
        "print(result)\n",
        "[['Bannockburn Primary School & Nursery', 51.4869172, 0.1015561], ['St Margaret Clitherow Primary School', 51.50103289999999, 0.1132992], ['Parkway Primary School', 51.49280040000001, 0.1341053], [\"St Michael's East Wickham C of E Primary School\", 51.46934, 0.119751], ['Jo Richardson Community School', 51.53407139999999, 0.1262779], ['Woolwich Polytechnic School for Boys', 51.5037284, 0.1081882], ['Eastbury Community School', 51.5415693, 0.09116149999999999], ['King Henry School', 51.47343300000001, 0.166117], ['Sydney Russell School', 51.5486205, 0.1331252], ['Langdon Academy', 51.53266139999999, 0.0684394], ['The Garard Academy Bexley Primary Section', 51.49388949999999, 0.1392432], ['Chestnut Tree Day Nursery', 51.4835246, 0.1472878], [\"St Paul's Academy\", 51.49267829999999, 0.1044459], ['Happi Feet Nursery', 51.4845967, 0.1547493], ['BG Homework Club', 51.5099169, 0.1171594], ['A B C Pre School', 51.5319735, 0.1467639], ['Foxhouse', 51.48538139999999, 0.1575613], ['Pulse & Water Learning', 51.4936864, 0.1102897], ['Bishop John Robinson Primary School', 51.5082391, 0.1184551], ['Kumon Maths & English', 51.50782019999999, 0.1086709]]\n"
      ],
      "metadata": {
        "colab": {
          "base_uri": "https://localhost:8080/"
        },
        "id": "9PhprQYOVatk",
        "outputId": "95c4a872-96d1-4627-fb42-557391b351b4"
      },
      "execution_count": 5,
      "outputs": [
        {
          "output_type": "stream",
          "name": "stdout",
          "text": [
            "Requirement already satisfied: googlemaps in /usr/local/lib/python3.10/dist-packages (4.10.0)\n",
            "Requirement already satisfied: requests<3.0,>=2.20.0 in /usr/local/lib/python3.10/dist-packages (from googlemaps) (2.31.0)\n",
            "Requirement already satisfied: charset-normalizer<4,>=2 in /usr/local/lib/python3.10/dist-packages (from requests<3.0,>=2.20.0->googlemaps) (3.3.2)\n",
            "Requirement already satisfied: idna<4,>=2.5 in /usr/local/lib/python3.10/dist-packages (from requests<3.0,>=2.20.0->googlemaps) (3.6)\n",
            "Requirement already satisfied: urllib3<3,>=1.21.1 in /usr/local/lib/python3.10/dist-packages (from requests<3.0,>=2.20.0->googlemaps) (2.0.7)\n",
            "Requirement already satisfied: certifi>=2017.4.17 in /usr/local/lib/python3.10/dist-packages (from requests<3.0,>=2.20.0->googlemaps) (2024.2.2)\n",
            "[['Bannockburn Primary School & Nursery', 51.4869172, 0.1015561], ['St Margaret Clitherow Primary School', 51.50103289999999, 0.1132992], ['Parkway Primary School', 51.49280040000001, 0.1341053], [\"St Michael's East Wickham C of E Primary School\", 51.46934, 0.119751], ['Jo Richardson Community School', 51.53407139999999, 0.1262779], ['Woolwich Polytechnic School for Boys', 51.5037284, 0.1081882], ['Eastbury Community School', 51.5415693, 0.09116149999999999], ['King Henry School', 51.47343300000001, 0.166117], ['Sydney Russell School', 51.5486205, 0.1331252], ['Langdon Academy', 51.53266139999999, 0.0684394], ['The Garard Academy Bexley Primary Section', 51.49388949999999, 0.1392432], ['Chestnut Tree Day Nursery', 51.4835246, 0.1472878], [\"St Paul's Academy\", 51.49267829999999, 0.1044459], ['Happi Feet Nursery', 51.4845967, 0.1547493], ['BG Homework Club', 51.5099169, 0.1171594], ['A B C Pre School', 51.5319735, 0.1467639], ['Foxhouse', 51.48538139999999, 0.1575613], ['Pulse & Water Learning', 51.4936864, 0.1102897], ['Bishop John Robinson Primary School', 51.5082391, 0.1184551], ['Kumon Maths & English', 51.50782019999999, 0.1086709]]\n"
          ]
        },
        {
          "output_type": "execute_result",
          "data": {
            "text/plain": [
              "[['Bannockburn Primary School & Nursery', 51.4869172, 0.1015561],\n",
              " ['St Margaret Clitherow Primary School', 51.50103289999999, 0.1132992],\n",
              " ['Parkway Primary School', 51.49280040000001, 0.1341053],\n",
              " [\"St Michael's East Wickham C of E Primary School\", 51.46934, 0.119751],\n",
              " ['Jo Richardson Community School', 51.53407139999999, 0.1262779],\n",
              " ['Woolwich Polytechnic School for Boys', 51.5037284, 0.1081882],\n",
              " ['Eastbury Community School', 51.5415693, 0.09116149999999999],\n",
              " ['King Henry School', 51.47343300000001, 0.166117],\n",
              " ['Sydney Russell School', 51.5486205, 0.1331252],\n",
              " ['Langdon Academy', 51.53266139999999, 0.0684394],\n",
              " ['The Garard Academy Bexley Primary Section', 51.49388949999999, 0.1392432],\n",
              " ['Chestnut Tree Day Nursery', 51.4835246, 0.1472878],\n",
              " [\"St Paul's Academy\", 51.49267829999999, 0.1044459],\n",
              " ['Happi Feet Nursery', 51.4845967, 0.1547493],\n",
              " ['BG Homework Club', 51.5099169, 0.1171594],\n",
              " ['A B C Pre School', 51.5319735, 0.1467639],\n",
              " ['Foxhouse', 51.48538139999999, 0.1575613],\n",
              " ['Pulse & Water Learning', 51.4936864, 0.1102897],\n",
              " ['Bishop John Robinson Primary School', 51.5082391, 0.1184551],\n",
              " ['Kumon Maths & English', 51.50782019999999, 0.1086709]]"
            ]
          },
          "metadata": {},
          "execution_count": 5
        }
      ]
    },
    {
      "cell_type": "code",
      "source": [
        "#Function that will save the list as txt.file ans send it to the bucket (aws)"
      ],
      "metadata": {
        "id": "1QmDJshRVsjI"
      },
      "execution_count": null,
      "outputs": []
    },
    {
      "cell_type": "code",
      "source": [
        "#create txt file fnction\n",
        "# import csv\n",
        "# from os.path import exists\n",
        "# def create_file(array):\n",
        "#   try:\n",
        "#     file_exists = exists(\"/content/school_list.csv\")\n",
        "#     if file_exists:\n",
        "#       school_name=[]\n",
        "#       with open(\"school_list.csv\") as file:\n",
        "#         reader=csv.reader(file)\n",
        "#         for row in reader:\n",
        "#           school_name.append(row[0])\n",
        "#       with open(\"school_list.csv\",\"a\") as file:\n",
        "#         writer=csv.writer(file)\n",
        "#         for i in array:\n",
        "#           if i[0] not in school_name:\n",
        "#            writer.writerow(i)\n",
        "#       return \"File edited successfully\"\n",
        "#     else:\n",
        "#       with open(\"school_list.csv\",\"w\") as file:\n",
        "#         writer=csv.writer(file)\n",
        "#         writer.writerow([\"School Name\", \"School Longitude\",\"School Lattitude\"])\n",
        "#         for i in array:\n",
        "#            writer.writerow(i)\n",
        "#       return \"File created successfully\"\n",
        "#   except Exception as e:\n",
        "#     return \"Error: \" + str(e)\n",
        "# create_file(result)"
      ],
      "metadata": {
        "colab": {
          "base_uri": "https://localhost:8080/",
          "height": 35
        },
        "id": "2WdGYoIYHo2E",
        "outputId": "5a2aa2f4-09ec-4668-98a8-a22c1a29ec85"
      },
      "execution_count": null,
      "outputs": [
        {
          "output_type": "execute_result",
          "data": {
            "text/plain": [
              "'File edited successfully'"
            ],
            "application/vnd.google.colaboratory.intrinsic+json": {
              "type": "string"
            }
          },
          "metadata": {},
          "execution_count": 7
        }
      ]
    },
    {
      "cell_type": "code",
      "source": [
        "#function that will send the list to the bucket"
      ],
      "metadata": {
        "id": "widgRi_7WXxL"
      },
      "execution_count": null,
      "outputs": []
    },
    {
      "cell_type": "code",
      "source": [
        "import requests\n",
        "import json\n",
        "\n",
        "url = \"https://75p0zb3rn2.execute-api.eu-north-1.amazonaws.com/default/mypythonproject\"\n",
        "\n",
        "def post_requests():\n",
        "  payload = json.dumps({\n",
        "    \"data\": result,\n",
        "  })\n",
        "  headers = {\n",
        "    'Content-Type': 'application/json',\n",
        "    'x-api-key': os.environ.get('AWS_API_KEY')\n",
        "  }\n",
        "\n",
        "  response = requests.request(\"POST\", url, headers=headers, data=payload)\n",
        "\n",
        "  print(response.text)\n",
        "\n",
        "post_requests()\n"
      ],
      "metadata": {
        "id": "8tQNDdT6lg1B",
        "colab": {
          "base_uri": "https://localhost:8080/"
        },
        "outputId": "098dfa70-8951-4652-a8fc-e95c72ddb159"
      },
      "execution_count": 6,
      "outputs": [
        {
          "output_type": "stream",
          "name": "stdout",
          "text": [
            "{\"message\": \"New data been successfully added\", \"data\": [[\"Parkway Primary School\", 51.49280040000001, 0.1341053], [\"St Michael's East Wickham C of E Primary School\", 51.46934, 0.119751], [\"Jo Richardson Community School\", 51.53407139999999, 0.1262779], [\"Woolwich Polytechnic School for Boys\", 51.5037284, 0.1081882], [\"Eastbury Community School\", 51.5415693, 0.09116149999999999], [\"King Henry School\", 51.47343300000001, 0.166117], [\"Sydney Russell School\", 51.5486205, 0.1331252], [\"Langdon Academy\", 51.53266139999999, 0.0684394], [\"The Garard Academy Bexley Primary Section\", 51.49388949999999, 0.1392432], [\"Chestnut Tree Day Nursery\", 51.4835246, 0.1472878], [\"St Paul's Academy\", 51.49267829999999, 0.1044459], [\"Happi Feet Nursery\", 51.4845967, 0.1547493], [\"BG Homework Club\", 51.5099169, 0.1171594], [\"A B C Pre School\", 51.5319735, 0.1467639], [\"Foxhouse\", 51.48538139999999, 0.1575613], [\"Pulse & Water Learning\", 51.4936864, 0.1102897], [\"Bishop John Robinson Primary School\", 51.5082391, 0.1184551], [\"Kumon Maths & English\", 51.50782019999999, 0.1086709]]}\n"
          ]
        }
      ]
    },
    {
      "cell_type": "markdown",
      "source": [
        "AS a user\n",
        "WHEN I want to see all the schools in the file on AWS S3\n",
        "THEN I will be able to run a function in a Google Colab that will send a request to get the full list,\n",
        "AND I will see the list printed in my output\n"
      ],
      "metadata": {
        "id": "sOXmh8j5_sk6"
      }
    },
    {
      "cell_type": "code",
      "source": [
        "import requests\n",
        "import json\n",
        "\n",
        "url = \"https://75p0zb3rn2.execute-api.eu-north-1.amazonaws.com/default/mypythonproject\"\n",
        "\n",
        "def get_requests():\n",
        "  payload = json.dumps({\n",
        "    \"data\":  []\n",
        "  })\n",
        "  headers = {\n",
        "    'Content-Type': 'application/json',\n",
        "    'x-api-key': os.environ.get('AWS_API_KEY')\n",
        "  }\n",
        "\n",
        "  response = requests.request(\"GET\", url, headers=headers, data=payload)\n",
        "\n",
        "  print(response.text)\n",
        "\n",
        "get_requests()\n"
      ],
      "metadata": {
        "colab": {
          "base_uri": "https://localhost:8080/"
        },
        "id": "zDkYVuHRM6km",
        "outputId": "b60557db-2b4f-4dfc-b420-3a89c4f9815e"
      },
      "execution_count": 7,
      "outputs": [
        {
          "output_type": "stream",
          "name": "stdout",
          "text": [
            "{\"message\": \"The data has been found\", \"data\": [[\"Name\", \"Latitude\", \"Longitude\"], [\"Bannockburn Primary School & Nursery\", \"51.4869172\", \"0.1015561\"], [\"St Margaret Clitherow Primary School\", \"51.50103289999999\", \"0.1132992\"], [\"Blackburn Primary School & Nursery\", \"51.4869172\", \"0.1015561\"], [\"St Greggs Clitherow Primary School\", \"51.50103289999999\", \"0.1132992\"], [\"Parkway Primary School\", \"51.49280040000001\", \"0.1341053\"], [\"St Michael's East Wickham C of E Primary School\", \"51.46934\", \"0.119751\"], [\"Jo Richardson Community School\", \"51.53407139999999\", \"0.1262779\"], [\"Woolwich Polytechnic School for Boys\", \"51.5037284\", \"0.1081882\"], [\"Eastbury Community School\", \"51.5415693\", \"0.09116149999999999\"], [\"King Henry School\", \"51.47343300000001\", \"0.166117\"], [\"Sydney Russell School\", \"51.5486205\", \"0.1331252\"], [\"Langdon Academy\", \"51.53266139999999\", \"0.0684394\"], [\"The Garard Academy Bexley Primary Section\", \"51.49388949999999\", \"0.1392432\"], [\"Chestnut Tree Day Nursery\", \"51.4835246\", \"0.1472878\"], [\"St Paul's Academy\", \"51.49267829999999\", \"0.1044459\"], [\"Happi Feet Nursery\", \"51.4845967\", \"0.1547493\"], [\"BG Homework Club\", \"51.5099169\", \"0.1171594\"], [\"A B C Pre School\", \"51.5319735\", \"0.1467639\"], [\"Foxhouse\", \"51.48538139999999\", \"0.1575613\"], [\"Pulse & Water Learning\", \"51.4936864\", \"0.1102897\"], [\"Bishop John Robinson Primary School\", \"51.5082391\", \"0.1184551\"], [\"Kumon Maths & English\", \"51.50782019999999\", \"0.1086709\"]]}\n"
          ]
        }
      ]
    },
    {
      "cell_type": "markdown",
      "source": [
        "ACCEPTANCE CRITERIA - USER STORIES\n",
        "\n",
        "WHEN I send latitude 55.816555 and longitude -4.309890 and a radius of 4km\n",
        "THEN the following list is added to the file:\n"
      ],
      "metadata": {
        "id": "qb3wDUEL_7ZR"
      }
    },
    {
      "cell_type": "code",
      "source": [
        "!pip install googlemaps\n",
        "import googlemaps\n",
        "\n",
        "gmaps = googlemaps.Client(os.environ.get('GOOGLE_API_KEY'))\n",
        "\n",
        "def get_schools(lat,lon,rad):\n",
        "  school_list=[]\n",
        "  try:\n",
        "    places_result  = gmaps.places_nearby(location= f\"{lat},{lon}\", radius = rad, type = \"school\")\n",
        "    for place in places_result['results']:\n",
        "      school_name= place['name']\n",
        "      school_location_lat= place['geometry']['location']['lat']\n",
        "      school_location_lng= place['geometry']['location']['lng']\n",
        "      print(f\"{school_name}, {school_location_lat},{school_location_lng}\")\n",
        "      school_list.append([school_name, school_location_lat,school_location_lng])\n",
        "    return school_list\n",
        "  except Exception as e:\n",
        "    print(\"Error: \" + str(e))\n",
        "result= get_schools(55.816555, -4.309890,4000)\n"
      ],
      "metadata": {
        "colab": {
          "base_uri": "https://localhost:8080/"
        },
        "id": "IMQiUy0f_9GG",
        "outputId": "f0b4cd91-50b6-41ac-81b9-78d549f7ade2"
      },
      "execution_count": 15,
      "outputs": [
        {
          "output_type": "stream",
          "name": "stdout",
          "text": [
            "Requirement already satisfied: googlemaps in /usr/local/lib/python3.10/dist-packages (4.10.0)\n",
            "Requirement already satisfied: requests<3.0,>=2.20.0 in /usr/local/lib/python3.10/dist-packages (from googlemaps) (2.31.0)\n",
            "Requirement already satisfied: charset-normalizer<4,>=2 in /usr/local/lib/python3.10/dist-packages (from requests<3.0,>=2.20.0->googlemaps) (3.3.2)\n",
            "Requirement already satisfied: idna<4,>=2.5 in /usr/local/lib/python3.10/dist-packages (from requests<3.0,>=2.20.0->googlemaps) (3.6)\n",
            "Requirement already satisfied: urllib3<3,>=1.21.1 in /usr/local/lib/python3.10/dist-packages (from requests<3.0,>=2.20.0->googlemaps) (2.0.7)\n",
            "Requirement already satisfied: certifi>=2017.4.17 in /usr/local/lib/python3.10/dist-packages (from requests<3.0,>=2.20.0->googlemaps) (2024.2.2)\n",
            "Hutchesons' Grammar School, 55.83644289999999,-4.282187\n",
            "Eastwood High School, 55.78701009999999,-4.327643299999999\n",
            "Glasgow Club Bellahouston, 55.8459204,-4.3239934\n",
            "Bellahouston Academy, 55.8481055,-4.3005388\n",
            "Pro-Soccer, 55.7979717,-4.3199578\n",
            "St Vincent’s Primary School, 55.8102127,-4.3248058\n",
            "Cleeves Primary School, 55.81444250000001,-4.355818899999999\n",
            "Thornliebank Primary School, 55.8093009,-4.3143177\n",
            "Our Lady of the Mission Primary School, 55.8017274,-4.307100999999999\n",
            "Hillpark Autism Unit, 55.8155973,-4.297950300000001\n",
            "Fotheringay Centre, 55.8371502,-4.2833944\n",
            "Animal Man Parties, 55.8158912,-4.295114700000001\n",
            "Woodland Outdoor Kindergartens, 55.8179202,-4.301552699999999\n",
            "Kumon Maths & English, 55.80408809999999,-4.2935565\n",
            "Carmichael Nursery School, 55.8245123,-4.272025\n",
            "Wendy King, 55.8293055,-4.2910509\n",
            "Burnbrae Children's Centre, 55.81449809999999,-4.3556976\n",
            "Zippytotz, 55.8099591,-4.300966\n",
            "Tinto Primary School, 55.8175789,-4.292833600000001\n",
            "St Vincent's Autism Unit Co St Vincent's Primary, 55.8099194,-4.323872199999999\n"
          ]
        }
      ]
    },
    {
      "cell_type": "markdown",
      "source": [
        "WHEN I have entered a latitude of 87.543255 and longitude of 0, and a radius of 10km\n",
        "THEN I will receive an empty list and nothing will be saved\n"
      ],
      "metadata": {
        "id": "gTvu3WJTRwR6"
      }
    },
    {
      "cell_type": "code",
      "source": [
        "!pip install googlemaps\n",
        "import googlemaps\n",
        "\n",
        "gmaps = googlemaps.Client(os.environ.get('GOOGLE_API_KEY'))\n",
        "\n",
        "def get_schools(lat,lon,rad):\n",
        "  school_list=[]\n",
        "  try:\n",
        "    places_result  = gmaps.places_nearby(location= f\"{lat},{lon}\", radius = rad, type = \"school\")\n",
        "    for place in places_result['results']:\n",
        "      school_name= place['name']\n",
        "      school_location_lat= place['geometry']['location']['lat']\n",
        "      school_location_lng= place['geometry']['location']['lng']\n",
        "      print(f\"{school_name}, {school_location_lat},{school_location_lng}\")\n",
        "      school_list.append([school_name, school_location_lat,school_location_lng])\n",
        "    return school_list\n",
        "  except Exception as e:\n",
        "    print(\"Error: \" + str(e))\n",
        "result= get_schools(87.543255, 0,10000)\n"
      ],
      "metadata": {
        "colab": {
          "base_uri": "https://localhost:8080/"
        },
        "id": "jaj2GX57H-m6",
        "outputId": "5108c3cc-3312-4a17-f4bf-76da32517e99"
      },
      "execution_count": 16,
      "outputs": [
        {
          "output_type": "stream",
          "name": "stdout",
          "text": [
            "Requirement already satisfied: googlemaps in /usr/local/lib/python3.10/dist-packages (4.10.0)\n",
            "Requirement already satisfied: requests<3.0,>=2.20.0 in /usr/local/lib/python3.10/dist-packages (from googlemaps) (2.31.0)\n",
            "Requirement already satisfied: charset-normalizer<4,>=2 in /usr/local/lib/python3.10/dist-packages (from requests<3.0,>=2.20.0->googlemaps) (3.3.2)\n",
            "Requirement already satisfied: idna<4,>=2.5 in /usr/local/lib/python3.10/dist-packages (from requests<3.0,>=2.20.0->googlemaps) (3.6)\n",
            "Requirement already satisfied: urllib3<3,>=1.21.1 in /usr/local/lib/python3.10/dist-packages (from requests<3.0,>=2.20.0->googlemaps) (2.0.7)\n",
            "Requirement already satisfied: certifi>=2017.4.17 in /usr/local/lib/python3.10/dist-packages (from requests<3.0,>=2.20.0->googlemaps) (2024.2.2)\n"
          ]
        }
      ]
    },
    {
      "cell_type": "markdown",
      "source": [
        "WHEN I have entered a latitude of 99.999995 and longitude of 0, and a radius of 5km\n",
        "THEN I will receive and error message telling me that the latitude is invalid (too big)\n"
      ],
      "metadata": {
        "id": "aWn1mS3SRrpy"
      }
    },
    {
      "cell_type": "code",
      "source": [
        "!pip install googlemaps\n",
        "import googlemaps\n",
        "\n",
        "gmaps = googlemaps.Client(os.environ.get('GOOGLE_API_KEY'))\n",
        "\n",
        "def get_schools(lat,lon,rad):\n",
        "  school_list=[]\n",
        "  try:\n",
        "    places_result  = gmaps.places_nearby(location= f\"{lat},{lon}\", radius = rad, type = \"school\")\n",
        "    for place in places_result['results']:\n",
        "      school_name= place['name']\n",
        "      school_location_lat= place['geometry']['location']['lat']\n",
        "      school_location_lng= place['geometry']['location']['lng']\n",
        "      print(f\"{school_name}, {school_location_lat},{school_location_lng}\")\n",
        "      school_list.append([school_name, school_location_lat,school_location_lng])\n",
        "    return school_list\n",
        "  except googlemaps.exceptions.ApiError as e:\n",
        "    if e.status==\"INVALID_REQUEST\":\n",
        "      print(\"coordinates are invalid\")\n",
        "  except Exception as e:\n",
        "    print(\"Error: \" + str(e))\n",
        "result= get_schools(99.999995, 0,50000)\n"
      ],
      "metadata": {
        "colab": {
          "base_uri": "https://localhost:8080/"
        },
        "id": "nFxJ81-pIMaT",
        "outputId": "a2481aa6-4fa0-4c3f-e376-033aefc627c5"
      },
      "execution_count": 38,
      "outputs": [
        {
          "output_type": "stream",
          "name": "stdout",
          "text": [
            "Requirement already satisfied: googlemaps in /usr/local/lib/python3.10/dist-packages (4.10.0)\n",
            "Requirement already satisfied: requests<3.0,>=2.20.0 in /usr/local/lib/python3.10/dist-packages (from googlemaps) (2.31.0)\n",
            "Requirement already satisfied: charset-normalizer<4,>=2 in /usr/local/lib/python3.10/dist-packages (from requests<3.0,>=2.20.0->googlemaps) (3.3.2)\n",
            "Requirement already satisfied: idna<4,>=2.5 in /usr/local/lib/python3.10/dist-packages (from requests<3.0,>=2.20.0->googlemaps) (3.6)\n",
            "Requirement already satisfied: urllib3<3,>=1.21.1 in /usr/local/lib/python3.10/dist-packages (from requests<3.0,>=2.20.0->googlemaps) (2.0.7)\n",
            "Requirement already satisfied: certifi>=2017.4.17 in /usr/local/lib/python3.10/dist-packages (from requests<3.0,>=2.20.0->googlemaps) (2024.2.2)\n",
            "coordinates are invalid\n"
          ]
        }
      ]
    },
    {
      "cell_type": "markdown",
      "source": [
        "WHEN the request is sent to get the contents of the schools file on AWS S3\n",
        "THEN a full list, matching the file on S3, is received\n"
      ],
      "metadata": {
        "id": "JhEGdtiUR7eR"
      }
    },
    {
      "cell_type": "code",
      "source": [],
      "metadata": {
        "id": "COYMBXPIR6X0"
      },
      "execution_count": null,
      "outputs": []
    }
  ]
}